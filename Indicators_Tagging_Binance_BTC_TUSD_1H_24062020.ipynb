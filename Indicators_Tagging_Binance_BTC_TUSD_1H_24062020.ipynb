{
  "nbformat": 4,
  "nbformat_minor": 0,
  "metadata": {
    "colab": {
      "name": "Indicators Tagging Binance-BTC-TUSD-1H-24062020.ipynb",
      "provenance": [],
      "collapsed_sections": [],
      "authorship_tag": "ABX9TyOHgS/qs/JpgxVT58pfWRhF",
      "include_colab_link": true
    },
    "kernelspec": {
      "name": "python3",
      "display_name": "Python 3"
    }
  },
  "cells": [
    {
      "cell_type": "markdown",
      "metadata": {
        "id": "view-in-github",
        "colab_type": "text"
      },
      "source": [
        "<a href=\"https://colab.research.google.com/github/MattoDemente/CryptoTrading/blob/master/Indicators_Tagging_Binance_BTC_TUSD_1H_24062020.ipynb\" target=\"_parent\"><img src=\"https://colab.research.google.com/assets/colab-badge.svg\" alt=\"Open In Colab\"/></a>"
      ]
    },
    {
      "cell_type": "code",
      "metadata": {
        "id": "qChSz90KuJVU",
        "colab_type": "code",
        "colab": {
          "base_uri": "https://localhost:8080/",
          "height": 255
        },
        "outputId": "ef8a345b-3d79-41c9-bb27-c6b6cd58f914"
      },
      "source": [
        "!pip install backtesting\n",
        "\n",
        "from backtesting import Strategy\n",
        "from backtesting.lib import crossover\n",
        "from backtesting import Backtest\n",
        "from backtesting.lib import resample_apply\n"
      ],
      "execution_count": 3,
      "outputs": [
        {
          "output_type": "stream",
          "text": [
            "Requirement already satisfied: backtesting in /usr/local/lib/python3.6/dist-packages (0.1.7)\n",
            "Requirement already satisfied: bokeh>=1.4.0 in /usr/local/lib/python3.6/dist-packages (from backtesting) (1.4.0)\n",
            "Requirement already satisfied: pandas!=0.25.0,>=0.25.0 in /usr/local/lib/python3.6/dist-packages (from backtesting) (1.0.5)\n",
            "Requirement already satisfied: numpy in /usr/local/lib/python3.6/dist-packages (from backtesting) (1.18.5)\n",
            "Requirement already satisfied: python-dateutil>=2.1 in /usr/local/lib/python3.6/dist-packages (from bokeh>=1.4.0->backtesting) (2.8.1)\n",
            "Requirement already satisfied: six>=1.5.2 in /usr/local/lib/python3.6/dist-packages (from bokeh>=1.4.0->backtesting) (1.12.0)\n",
            "Requirement already satisfied: pillow>=4.0 in /usr/local/lib/python3.6/dist-packages (from bokeh>=1.4.0->backtesting) (7.0.0)\n",
            "Requirement already satisfied: packaging>=16.8 in /usr/local/lib/python3.6/dist-packages (from bokeh>=1.4.0->backtesting) (20.4)\n",
            "Requirement already satisfied: Jinja2>=2.7 in /usr/local/lib/python3.6/dist-packages (from bokeh>=1.4.0->backtesting) (2.11.2)\n",
            "Requirement already satisfied: tornado>=4.3 in /usr/local/lib/python3.6/dist-packages (from bokeh>=1.4.0->backtesting) (4.5.3)\n",
            "Requirement already satisfied: PyYAML>=3.10 in /usr/local/lib/python3.6/dist-packages (from bokeh>=1.4.0->backtesting) (3.13)\n",
            "Requirement already satisfied: pytz>=2017.2 in /usr/local/lib/python3.6/dist-packages (from pandas!=0.25.0,>=0.25.0->backtesting) (2018.9)\n",
            "Requirement already satisfied: pyparsing>=2.0.2 in /usr/local/lib/python3.6/dist-packages (from packaging>=16.8->bokeh>=1.4.0->backtesting) (2.4.7)\n",
            "Requirement already satisfied: MarkupSafe>=0.23 in /usr/local/lib/python3.6/dist-packages (from Jinja2>=2.7->bokeh>=1.4.0->backtesting) (1.1.1)\n"
          ],
          "name": "stdout"
        }
      ]
    },
    {
      "cell_type": "code",
      "metadata": {
        "id": "YW7MbTsCYJZK",
        "colab_type": "code",
        "colab": {
          "base_uri": "https://localhost:8080/",
          "height": 406
        },
        "outputId": "a5e6a4e8-2943-4bf7-cc3d-944688554b16"
      },
      "source": [
        "import pyarrow.parquet as pq\n",
        "import pandas as pd\n",
        "import numpy as np\n",
        "import time\n",
        "import os\n",
        "import re\n",
        "from datetime import datetime\n",
        "import matplotlib.pyplot as plt\n",
        "from tqdm import tqdm\n",
        "from termcolor import colored, cprint\n",
        "from scipy.signal import argrelextrema\n",
        "from datetime import timedelta\n",
        "#%matplotlib inline\n",
        "#%matplotlib notebook\n",
        "import plotly.graph_objects as go\n",
        "import plotly.express as px\n",
        "from tqdm import tqdm\n",
        "\n",
        "\n",
        "from google.colab import drive\n",
        "drive.mount('/content/gdrive')\n"
      ],
      "execution_count": 4,
      "outputs": [
        {
          "output_type": "error",
          "ename": "TypeError",
          "evalue": "ignored",
          "traceback": [
            "\u001b[0;31m---------------------------------------------------------------------------\u001b[0m",
            "\u001b[0;31mTypeError\u001b[0m                                 Traceback (most recent call last)",
            "\u001b[0;32m<ipython-input-4-7e4fdcb0bb29>\u001b[0m in \u001b[0;36m<module>\u001b[0;34m()\u001b[0m\n\u001b[1;32m     19\u001b[0m \u001b[0;34m\u001b[0m\u001b[0m\n\u001b[1;32m     20\u001b[0m \u001b[0;32mfrom\u001b[0m \u001b[0mgoogle\u001b[0m\u001b[0;34m.\u001b[0m\u001b[0mcolab\u001b[0m \u001b[0;32mimport\u001b[0m \u001b[0mdrive\u001b[0m\u001b[0;34m\u001b[0m\u001b[0;34m\u001b[0m\u001b[0m\n\u001b[0;32m---> 21\u001b[0;31m \u001b[0mdrive\u001b[0m\u001b[0;34m.\u001b[0m\u001b[0mmount\u001b[0m\u001b[0;34m(\u001b[0m\u001b[0;34m'/content/gdrive'\u001b[0m\u001b[0;34m)\u001b[0m\u001b[0;34m\u001b[0m\u001b[0;34m\u001b[0m\u001b[0m\n\u001b[0m",
            "\u001b[0;32m/usr/local/lib/python3.6/dist-packages/google/colab/drive.py\u001b[0m in \u001b[0;36mmount\u001b[0;34m(mountpoint, force_remount, timeout_ms, use_metadata_server)\u001b[0m\n\u001b[1;32m    240\u001b[0m       \u001b[0mauth_prompt\u001b[0m \u001b[0;34m=\u001b[0m \u001b[0md\u001b[0m\u001b[0;34m.\u001b[0m\u001b[0mmatch\u001b[0m\u001b[0;34m.\u001b[0m\u001b[0mgroup\u001b[0m\u001b[0;34m(\u001b[0m\u001b[0;36m1\u001b[0m\u001b[0;34m)\u001b[0m \u001b[0;34m+\u001b[0m \u001b[0;34m'\\nEnter your authorization code:\\n'\u001b[0m\u001b[0;34m\u001b[0m\u001b[0;34m\u001b[0m\u001b[0m\n\u001b[1;32m    241\u001b[0m       \u001b[0;32mwith\u001b[0m \u001b[0mopen\u001b[0m\u001b[0;34m(\u001b[0m\u001b[0mfifo\u001b[0m\u001b[0;34m,\u001b[0m \u001b[0;34m'w'\u001b[0m\u001b[0;34m)\u001b[0m \u001b[0;32mas\u001b[0m \u001b[0mfifo_file\u001b[0m\u001b[0;34m:\u001b[0m\u001b[0;34m\u001b[0m\u001b[0;34m\u001b[0m\u001b[0m\n\u001b[0;32m--> 242\u001b[0;31m         \u001b[0mfifo_file\u001b[0m\u001b[0;34m.\u001b[0m\u001b[0mwrite\u001b[0m\u001b[0;34m(\u001b[0m\u001b[0m_getpass\u001b[0m\u001b[0;34m.\u001b[0m\u001b[0mgetpass\u001b[0m\u001b[0;34m(\u001b[0m\u001b[0mauth_prompt\u001b[0m\u001b[0;34m)\u001b[0m \u001b[0;34m+\u001b[0m \u001b[0;34m'\\n'\u001b[0m\u001b[0;34m)\u001b[0m\u001b[0;34m\u001b[0m\u001b[0;34m\u001b[0m\u001b[0m\n\u001b[0m\u001b[1;32m    243\u001b[0m       \u001b[0mwrote_to_fifo\u001b[0m \u001b[0;34m=\u001b[0m \u001b[0;32mTrue\u001b[0m\u001b[0;34m\u001b[0m\u001b[0;34m\u001b[0m\u001b[0m\n\u001b[1;32m    244\u001b[0m   \u001b[0;32mif\u001b[0m \u001b[0;32mnot\u001b[0m \u001b[0mwrote_to_fifo\u001b[0m\u001b[0;34m:\u001b[0m\u001b[0;34m\u001b[0m\u001b[0;34m\u001b[0m\u001b[0m\n",
            "\u001b[0;31mTypeError\u001b[0m: unsupported operand type(s) for +: 'dict' and 'str'"
          ]
        }
      ]
    },
    {
      "cell_type": "markdown",
      "metadata": {
        "id": "dm5GeK4LQMIj",
        "colab_type": "text"
      },
      "source": [
        "Data Source https://www.CryptoDataDownload.com\n"
      ]
    },
    {
      "cell_type": "code",
      "metadata": {
        "id": "MypX7picYYGr",
        "colab_type": "code",
        "colab": {}
      },
      "source": [
        "def load_crncy(path, kind='train'):\n",
        "    \"\"\"Load Bitcoin MXN trade info\"\"\"\n",
        "    \n",
        "    data_path = os.path.join(path, 'Binance_BTCUSDT_1h_1445212800000-1592524800000.csv')\n",
        "    df = pd.read_csv(data_path, sep = \",\",skiprows = 0)\n",
        "    #df = pq.read_pandas(data_path, columns=['open_time',\n",
        "    #                                        'open',\n",
        "    #                                        'high',\n",
        "    #                                        'low',\n",
        "    #                                        'close',\n",
        "    #                                        'volume',\n",
        "    #                                        'quote_asset_volume',\n",
        "    #                                        'number_of_trades',\n",
        "    #                                        'taker_buy_asset_volume',\n",
        "    #                                        'taker_buy_quote_asset_volume'\n",
        "    #                                        ]).to_pandas()\n",
        "\n",
        "    print('First rows of features')\n",
        "    \n",
        "    print(df.head)\n",
        "\n",
        "    return df\n"
      ],
      "execution_count": null,
      "outputs": []
    },
    {
      "cell_type": "code",
      "metadata": {
        "id": "VS2w6kpGYfAN",
        "colab_type": "code",
        "colab": {}
      },
      "source": [
        "df = load_crncy('/content/gdrive/My Drive/Colab Notebooks/BINANCE/data/')    "
      ],
      "execution_count": null,
      "outputs": []
    },
    {
      "cell_type": "code",
      "metadata": {
        "id": "Q7xB9m5AqvF7",
        "colab_type": "code",
        "colab": {}
      },
      "source": [
        "df.dtypes"
      ],
      "execution_count": null,
      "outputs": []
    },
    {
      "cell_type": "code",
      "metadata": {
        "id": "Brm3egjis397",
        "colab_type": "code",
        "colab": {}
      },
      "source": [
        "df['date_time'] = df.Timestamp.apply(lambda x: datetime.strptime(x, '%Y-%m-%d %H:%M:%S'))"
      ],
      "execution_count": null,
      "outputs": []
    },
    {
      "cell_type": "code",
      "metadata": {
        "id": "gbgthJnis-q9",
        "colab_type": "code",
        "colab": {}
      },
      "source": [
        "df.dtypes"
      ],
      "execution_count": null,
      "outputs": []
    },
    {
      "cell_type": "code",
      "metadata": {
        "id": "ZTb3wNOXtFO_",
        "colab_type": "code",
        "colab": {}
      },
      "source": [
        "df.head()"
      ],
      "execution_count": null,
      "outputs": []
    },
    {
      "cell_type": "code",
      "metadata": {
        "id": "VQEpllBEtMul",
        "colab_type": "code",
        "colab": {}
      },
      "source": [
        "df.index = df.date_time"
      ],
      "execution_count": null,
      "outputs": []
    },
    {
      "cell_type": "code",
      "metadata": {
        "id": "NDPXH6vTraKu",
        "colab_type": "code",
        "colab": {}
      },
      "source": [
        "df['date_time'].dtype"
      ],
      "execution_count": null,
      "outputs": []
    },
    {
      "cell_type": "code",
      "metadata": {
        "id": "EPM3vsjLsZpA",
        "colab_type": "code",
        "colab": {}
      },
      "source": [
        "df.dtypes"
      ],
      "execution_count": null,
      "outputs": []
    },
    {
      "cell_type": "code",
      "metadata": {
        "id": "Sr4WJU344b8P",
        "colab_type": "code",
        "colab": {}
      },
      "source": [
        "df.index"
      ],
      "execution_count": null,
      "outputs": []
    },
    {
      "cell_type": "markdown",
      "metadata": {
        "id": "iBm69LGXmFdn",
        "colab_type": "text"
      },
      "source": [
        "# Aquí va el código para arreglar huecos en el índice"
      ]
    },
    {
      "cell_type": "code",
      "metadata": {
        "id": "5KM1I89HbUlm",
        "colab_type": "code",
        "colab": {}
      },
      "source": [
        "ts = pd.date_range(df.index.min(), df.index.max(), freq='1H')"
      ],
      "execution_count": null,
      "outputs": []
    },
    {
      "cell_type": "code",
      "metadata": {
        "id": "xx4FDC121Um2",
        "colab_type": "code",
        "colab": {}
      },
      "source": [
        "ts"
      ],
      "execution_count": null,
      "outputs": []
    },
    {
      "cell_type": "code",
      "metadata": {
        "id": "tyNZU9m14M1y",
        "colab_type": "code",
        "colab": {}
      },
      "source": [
        "len(ts)"
      ],
      "execution_count": null,
      "outputs": []
    },
    {
      "cell_type": "code",
      "metadata": {
        "id": "94YnIneg50wh",
        "colab_type": "code",
        "colab": {}
      },
      "source": [
        "df[df.index.duplicated()]"
      ],
      "execution_count": null,
      "outputs": []
    },
    {
      "cell_type": "code",
      "metadata": {
        "id": "xeCVX79W59cj",
        "colab_type": "code",
        "colab": {}
      },
      "source": [
        "df = df[~df.index.duplicated()]"
      ],
      "execution_count": null,
      "outputs": []
    },
    {
      "cell_type": "code",
      "metadata": {
        "id": "GWXFNXo6bUYb",
        "colab_type": "code",
        "colab": {}
      },
      "source": [
        "df.loc['2017-08-17 15:00:00']"
      ],
      "execution_count": null,
      "outputs": []
    },
    {
      "cell_type": "code",
      "metadata": {
        "id": "8xHeCBVZbT6Q",
        "colab_type": "code",
        "colab": {}
      },
      "source": [
        "df = df.reindex(ts).fillna(method='ffill').rename_axis('open_time').reset_index()"
      ],
      "execution_count": null,
      "outputs": []
    },
    {
      "cell_type": "code",
      "metadata": {
        "id": "96Nz1Zp44G_F",
        "colab_type": "code",
        "colab": {}
      },
      "source": [
        "df.index = df.open_time"
      ],
      "execution_count": null,
      "outputs": []
    },
    {
      "cell_type": "code",
      "metadata": {
        "id": "hI_owFEWrUmW",
        "colab_type": "code",
        "colab": {}
      },
      "source": [
        "#df['open_time'] = df.open_time.apply(lambda x: datetime.strptime(x, '%Y-%m-%d %I-%p'))\n",
        "#df.index = df.DateTime\n",
        "#df = df.sort_index(ascending=True)\n",
        "df.head()"
      ],
      "execution_count": null,
      "outputs": []
    },
    {
      "cell_type": "code",
      "metadata": {
        "id": "H0LdaYB4bwE9",
        "colab_type": "code",
        "colab": {}
      },
      "source": [
        "df = df.drop(['open_time','Timestamp','date_time'], axis=1)"
      ],
      "execution_count": null,
      "outputs": []
    },
    {
      "cell_type": "code",
      "metadata": {
        "id": "UYKrOMjLbv-U",
        "colab_type": "code",
        "colab": {}
      },
      "source": [
        "df.loc['2017-09-06 15:00:00']"
      ],
      "execution_count": null,
      "outputs": []
    },
    {
      "cell_type": "markdown",
      "metadata": {
        "id": "00x0R2xQ9H2V",
        "colab_type": "text"
      },
      "source": [
        "Hacer correlación de los dos volumenes BTC y MXN (verificar si es 1)\n",
        "Agregar features de Volumne pro plataforma "
      ]
    },
    {
      "cell_type": "code",
      "metadata": {
        "id": "VuMzX15SoZ6s",
        "colab_type": "code",
        "colab": {}
      },
      "source": [
        "data_frame = df.copy(deep=True)"
      ],
      "execution_count": null,
      "outputs": []
    },
    {
      "cell_type": "code",
      "metadata": {
        "id": "EyXJyKtXY_Yd",
        "colab_type": "code",
        "colab": {}
      },
      "source": [
        "firstVI = data_frame.first_valid_index()\n",
        "lastVI = data_frame.last_valid_index()"
      ],
      "execution_count": null,
      "outputs": []
    },
    {
      "cell_type": "code",
      "metadata": {
        "id": "kSlMMcLpZE3U",
        "colab_type": "code",
        "colab": {}
      },
      "source": [
        "#symbol='BTCMXN'\n",
        "# rename the column header with symbol name\n",
        "data_frame = data_frame.rename(columns={'open_time':'DateTime',\n",
        "                                        'open':'Open',\n",
        "                                        'high':'High',\n",
        "                                        'low':'Low',\n",
        "                                        'close':'Close'\n",
        "                                        })\n",
        "data_frame.dropna(inplace=True)\n",
        "data_frame = data_frame.sort_index(ascending=True) #SORT 2019/10/02"
      ],
      "execution_count": null,
      "outputs": []
    },
    {
      "cell_type": "code",
      "metadata": {
        "id": "67SUidJaU7Ih",
        "colab_type": "code",
        "colab": {}
      },
      "source": [
        "len(data_frame)"
      ],
      "execution_count": null,
      "outputs": []
    },
    {
      "cell_type": "code",
      "metadata": {
        "id": "QNC-WdEsF-Jq",
        "colab_type": "code",
        "colab": {}
      },
      "source": [
        "##Find missing values\n",
        "data_frame[pd.isnull(data_frame['Open'])]"
      ],
      "execution_count": null,
      "outputs": []
    },
    {
      "cell_type": "code",
      "metadata": {
        "id": "8tx7EDZlUAFa",
        "colab_type": "code",
        "colab": {}
      },
      "source": [
        "font = {'family' : 'normal',\n",
        "        'weight' : 'normal',\n",
        "        'size'   : 12}\n",
        "plt.rc('font',**font)        \n",
        "\n",
        "data_frame.plot(figsize=(15,10),subplots=True)"
      ],
      "execution_count": null,
      "outputs": []
    },
    {
      "cell_type": "markdown",
      "metadata": {
        "id": "w4qycA4LVD9V",
        "colab_type": "text"
      },
      "source": [
        "* Cleanup unnecessary columns"
      ]
    },
    {
      "cell_type": "code",
      "metadata": {
        "id": "boqJcCYBU8v8",
        "colab_type": "code",
        "colab": {}
      },
      "source": [
        "#data_frame = data_frame.rename(columns={'DateTime':'Date'})\n",
        "data_frame = data_frame.drop(['Volume','Quote Asset Volume', 'Number of trades', 'Take buy Asset volume' ], axis=1)"
      ],
      "execution_count": null,
      "outputs": []
    },
    {
      "cell_type": "markdown",
      "metadata": {
        "id": "r8k4CN1PI44D",
        "colab_type": "text"
      },
      "source": [
        "# https://pandas.pydata.org/pandas-docs/stable/user_guide/timeseries.html#dateoffset-objects"
      ]
    },
    {
      "cell_type": "code",
      "metadata": {
        "id": "tl8IHmeVTq4K",
        "colab_type": "code",
        "colab": {}
      },
      "source": [
        "data_frame = data_frame.resample('1H').mean()"
      ],
      "execution_count": null,
      "outputs": []
    },
    {
      "cell_type": "code",
      "metadata": {
        "id": "g95abMELUCcP",
        "colab_type": "code",
        "colab": {}
      },
      "source": [
        "font = {'family' : 'normal',\n",
        "        'weight' : 'normal',\n",
        "        'size'   : 12}\n",
        "plt.rc('font',**font)        \n",
        "\n",
        "data_frame.plot(figsize=(15,10),subplots=True)"
      ],
      "execution_count": null,
      "outputs": []
    },
    {
      "cell_type": "markdown",
      "metadata": {
        "id": "AtrqekjfVPN7",
        "colab_type": "text"
      },
      "source": [
        "* Calculation of Commodity Channel Index"
      ]
    },
    {
      "cell_type": "code",
      "metadata": {
        "id": "32GQgH1SYyHq",
        "colab_type": "code",
        "colab": {}
      },
      "source": [
        "len(data_frame)"
      ],
      "execution_count": null,
      "outputs": []
    },
    {
      "cell_type": "code",
      "metadata": {
        "id": "gdEvfEpejKkA",
        "colab_type": "code",
        "colab": {}
      },
      "source": [
        "start_DT = data_frame.first_valid_index()\n",
        "end_DT = data_frame.last_valid_index()"
      ],
      "execution_count": null,
      "outputs": []
    },
    {
      "cell_type": "code",
      "metadata": {
        "id": "B8nuKwsLPwIr",
        "colab_type": "code",
        "colab": {}
      },
      "source": [
        "firstVI = data_frame.first_valid_index()\n",
        "lastVI = data_frame.last_valid_index()\n",
        "for i in data_frame.index:\n",
        "  if (i == firstVI) or (i == lastVI):\n",
        "    print(f\"{i}\")"
      ],
      "execution_count": null,
      "outputs": []
    },
    {
      "cell_type": "code",
      "metadata": {
        "id": "KZqos3A7P77I",
        "colab_type": "code",
        "colab": {}
      },
      "source": [
        "d = timedelta(hours=1)\n",
        "#d = timedelta(minutes=5)\n",
        "\n",
        "i = firstVI\n",
        "j = i - d\n",
        "print(j)"
      ],
      "execution_count": null,
      "outputs": []
    },
    {
      "cell_type": "code",
      "metadata": {
        "id": "X4nOQq71xvib",
        "colab_type": "code",
        "colab": {}
      },
      "source": [
        "def plotDataset(data):\n",
        "\n",
        "    data.set_index('Date',inplace=True)\n",
        "    plt.plot(data['Close'], fillstyle='none',label='Close')  \n",
        "    plt.plot(data[data['position'] == -1]['Close'],'v', color='red', fillstyle='full',label='Sell Signal Minor')\n",
        "    plt.plot(data[data['position'] == -2]['Close'],'v', color='blue', fillstyle='full',label='Sell Signal Mayor')\n",
        "    plt.plot(data[data['position'] == 0]['Close'],'o', color='black', fillstyle='full',label='No Action')\n",
        "    plt.plot(data[data['position'] == 1]['Close'],'^', color='green', fillstyle='full',label='Buy Signal Minor')\n",
        "    plt.plot(data[data['position'] == 2]['Close'],'^', color='yellow', fillstyle='full',label='Buy Signal Mayor')\n",
        "\n",
        "    plt.legend(loc='upper left')\n",
        "    plt.xticks(rotation='vertical')\n",
        "    plt.show()\n",
        "\n",
        "\"\"\"\n",
        "def merge(data1,data2):\n",
        "    df = data1.copy()\n",
        "    for i in df.index:\n",
        "        value = data2.loc[i,'position']\n",
        "        if value != 0:\n",
        "            df.loc[i,'position'] = value\n",
        "    return df\n",
        "\"\"\"\n",
        "\n",
        "def merge(data1,data2):\n",
        "    dfp1 = data1['position']\n",
        "    dfp2 = data2['position']\n",
        "    dfp = dfp2.combine(dfp1, (lambda x1, x2: x1 if x1 != 0 else x2), fill_value=0)\n",
        "    return dfp\n",
        "\n",
        "\n",
        "def convertMax(df,i,threshold,signal, comission):\n",
        "    \n",
        "    df_size = df['Close'].size\n",
        "    actualValue = df.loc[i,'Close']\n",
        "\n",
        "    #Señal de venta\n",
        "    if (signal > 0):\n",
        "      #derecha\n",
        "      j = i + d\n",
        "      while(j <= lastVI and abs(df.loc[j,'Close'] - actualValue) <= threshold and abs(df.loc[j,'Close'] - actualValue) > comission):    \n",
        "        df.loc[j,'position'] = signal\n",
        "        j += d\n",
        "      #izquierda\n",
        "      k = i - d\n",
        "      while(k >= firstVI and abs(df.loc[k,'Close'] - actualValue) <= threshold and abs(actualValue - df.loc[k,'Close']) > comission):\n",
        "        df.loc[k,'position'] = signal\n",
        "        k -= d\n",
        "      i = j- d    \n",
        "\n",
        "    #Señal de compra\n",
        "    if (signal < 0 ):\n",
        "      #derecha\n",
        "      j = i + d\n",
        "      while(j <= lastVI and abs(df.loc[j,'Close'] - actualValue) <= threshold and abs(df.loc[j,'Close'] - actualValue) > comission):\n",
        "        df.loc[j,'position'] = signal\n",
        "        j += d\n",
        "      #izquierda\n",
        "      k = i - d\n",
        "      while(k >= firstVI and abs(df.loc[k,'Close'] - actualValue) <= threshold and abs(actualValue - df.loc[k,'Close']) > comission):    \n",
        "        df.loc[k,'position'] = signal\n",
        "        k -= d\n",
        "      i = j- d  \n",
        "\n",
        "    return df,j\n",
        "\n",
        "#APC\n",
        "\n",
        "\"\"\"\n",
        "def convertMin(df,i,threshold,signal):\n",
        "    \n",
        "    df_size = df['Close'].size\n",
        "    actualValue = df.loc[i,'Close']\n",
        "    #derecha\n",
        "    j = i + d\n",
        "    while(j <= lastVI and abs(df.loc[j,'Close'] - actualValue) <= threshold and (df.loc[j,'position'] == 0)):#!= 2 and df.at[j,'position'] != -2)):\n",
        "        df.loc[j,'position'] = signal\n",
        "        j += d\n",
        "    #izquierda\n",
        "    k = i - d\n",
        "    while(k >= firstVI and abs(df.loc[k,'Close'] - actualValue) <= threshold and (df.at[k,'position'] == 0)):#!= 2 and df.at[k,'position'] != -2)):\n",
        "        df.at[k,'position'] = signal\n",
        "        k -= d\n",
        "    i = j-d    \n",
        "    return df,j\n",
        "\"\"\"\n",
        "\n",
        "def etiq(df, threshold=.15, comission=.42):\n",
        "    print(f\"Etiquetando:\")\n",
        "    #df_size = df['Close'].size\n",
        "    i = firstVI\n",
        "    while i < lastVI:\n",
        "        position = data.loc[i,'position']\n",
        "        if position == 2 or position == -2:\n",
        "            closeValue = df.loc[i,'Close']\n",
        "            #print(f\"Percentage Close Value {closeValue *.02}\")            \n",
        "            #df,i = convertMax(df,i,(closeValue *.0225),signal)\n",
        "            #df,i = convertMax(df,i,(closeValue *.1253),signal)\n",
        "            df,i = convertMax(df,i,(closeValue * threshold),position, comission) #.399 is the highest delta for Nov 2017 through Jan 2018 highest variance\n",
        "            #df,i = convertMax(df,i,0.5,signal)\n",
        "        i += d\n",
        "    i = firstVI\n",
        "    \n",
        "    while i < lastVI:\n",
        "        position = data.at[i,'position']\n",
        "        if position == 1 or position == -1:\n",
        "            closeValue = df.loc[i,'Close']\n",
        "            #print(f\"Percentage Close Value {closeValue *.02}\")\n",
        "            #df,i = convertMax(df,i,(closeValue *.0225),signal)\n",
        "            #df,i = convertMax(df,i,(closeValue *.1253),signal)\n",
        "            df,i = convertMax(df,i,(closeValue * threshold),position, comission)\n",
        "            #df,i = convertMin(df,i,0.25,signal)\n",
        "        i += d\n",
        "    \n",
        "    return df"
      ],
      "execution_count": null,
      "outputs": []
    },
    {
      "cell_type": "markdown",
      "metadata": {
        "id": "AOBpBib9R5fG",
        "colab_type": "text"
      },
      "source": [
        "## TODO:\n",
        "* Hacer split de 4 valores para el argrelextrema y revisar el umbral \n",
        "* Graficar curva con colores."
      ]
    },
    {
      "cell_type": "code",
      "metadata": {
        "id": "zgGGehyyx8OC",
        "colab_type": "code",
        "colab": {}
      },
      "source": [
        "def tagWParms(df , Lwindow=8760, Swindow=720): \n",
        "\n",
        "\n",
        "    df1 = df.copy(deep=True)\n",
        "\n",
        "    dataMinor = df1.copy()\n",
        "    dataMax = df1.copy()    \n",
        "    #procesando ventas menores\n",
        "    \n",
        "    n = Swindow #un mes   \n",
        "    \n",
        "    dataMinor['mn'] = dataMinor.iloc[argrelextrema(dataMinor.Close.values, np.less_equal, order=Swindow)[0]]['Close']\n",
        "    dataMinor['mx'] = dataMinor.iloc[argrelextrema(dataMinor.Close.values, np.greater_equal, order=Swindow)[0]]['Close']\n",
        "    dataMinor['position'] = 0\n",
        "    dataMinor.loc[dataMinor['mn'].notnull(),'position'] = 1.0 \n",
        "    dataMinor.loc[dataMinor['mx'].notnull(),'position'] = -1.0 \n",
        "    \n",
        "    #dataMinor['mn'] = dataMinor.apply(lambda row: argrelextrema(dataMinor.Close.values, np.less_equal, order=Swindow))\n",
        "\n",
        "    \n",
        "    n = Lwindow #un año\n",
        "    \n",
        "    dataMax['mn'] = dataMax.iloc[argrelextrema(dataMax.Close.values, np.less_equal, order=Lwindow)[0]]['Close']    \n",
        "    dataMax['mx'] = dataMax.iloc[argrelextrema(dataMax.Close.values, np.greater_equal, order=Lwindow)[0]]['Close']\n",
        "    dataMax['position'] = 0\n",
        "    dataMax.loc[dataMax['mn'].notnull(),'position'] = 2.0 \n",
        "    dataMax.loc[dataMax['mx'].notnull(),'position'] = -2.0 \n",
        "    \n",
        "    \n",
        "    #data = merge(dataMinor,dataMax)\n",
        "    pos = merge(dataMinor,dataMax)\n",
        "    df1['position'] = pos\n",
        "    data = df1.copy(deep=True)\n",
        "    print(f\"VALORES ANTES:\\n {data['position'].value_counts()}\")\n",
        "\n",
        "    return data\n"
      ],
      "execution_count": null,
      "outputs": []
    },
    {
      "cell_type": "code",
      "metadata": {
        "id": "4Wq1-OUtf4KQ",
        "colab_type": "code",
        "colab": {}
      },
      "source": [
        "data = tagWParms(data_frame, Lwindow=4380, Swindow=90)"
      ],
      "execution_count": null,
      "outputs": []
    },
    {
      "cell_type": "code",
      "metadata": {
        "id": "eVq-4u1LHgvu",
        "colab_type": "code",
        "colab": {}
      },
      "source": [
        "def tagByWindow(df, i, threshold, signal, window):\n",
        "    \n",
        "    df_size = df['Close'].size\n",
        "    actualValue = df.loc[i,'Close']\n",
        "    #derecha\n",
        "    j = i + window\n",
        "    while(j <= lastVI and abs(df.loc[j,'Close'] - actualValue) <= threshold):\n",
        "      df.loc[j,'position'] = signal\n",
        "      j += d\n",
        "    #izquierda\n",
        "    k = i - d\n",
        "    while(k >= firstVI and abs(df.loc[k,'Close'] - actualValue) <= threshold):\n",
        "      df.loc[k,'position'] = signal\n",
        "      k -= d\n",
        "    i = j- d    \n",
        "    return df,j\n",
        "\n"
      ],
      "execution_count": null,
      "outputs": []
    },
    {
      "cell_type": "code",
      "metadata": {
        "id": "NTUchUKWxTAg",
        "colab_type": "code",
        "colab": {}
      },
      "source": [
        "\"\"\"\n",
        "plt.plot(data['Close'].loc[date_rng], label='Close Price MXN', lw=1)\n",
        "plt.plot(data.loc[date_rng][data['position']== -1]['Close'],'v', color='orange', fillstyle='full',label='Sell Signal')\n",
        "plt.plot(data.loc[date_rng][data['position'] == 1]['Close'],'^', color='green', fillstyle='full',label='Buy Signal')\n",
        "plt.plot(data.loc[date_rng][data['position']== -2]['Close'],'v', color='red', fillstyle='full',label='Strong Sell Signal')\n",
        "plt.plot(data.loc[date_rng][data['position'] == 2]['Close'],'^', color='blue', fillstyle='full',label='Strong Buy Signal')\n",
        "\n",
        "plt.xlabel('date')\n",
        "plt.ylabel('BITCOIN TO MXN')\n",
        "plt.grid(True)\n",
        "plt.legend(loc=1)\n",
        "plt.setp(plt.gca().get_xticklabels(), rotation = 30)\n",
        "\"\"\"\n",
        "\n",
        "# Create random data with numpy\n",
        "\n",
        "fig = go.Figure()\n",
        "\n",
        "# Add traces\n",
        "fig.add_trace(go.Scatter(x=data.index, y=data['Close'],\n",
        "                    mode='lines',\n",
        "                    name='Close'))\n",
        "\n",
        "fig.add_trace(go.Scatter(x=data[data['position'] == -2].index, y=data[data['position'] == -2]['Close'],\n",
        "                    mode='markers',\n",
        "                    name='Top Sale'))\n",
        "fig.add_trace(go.Scatter(x=data[data['position'] == -1].index, y=data[data['position'] == -1]['Close'],\n",
        "                    mode='markers',\n",
        "                    name='Sale'))\n",
        "fig.add_trace(go.Scatter(x=data[data['position'] == 1].index, y=data[data['position'] == 1]['Close'],\n",
        "                    mode='markers',\n",
        "                    name='Buy'))\n",
        "fig.add_trace(go.Scatter(x=data[data['position'] == 2].index, y=data[data['position'] == 2]['Close'],\n",
        "                    mode='markers',\n",
        "                    name='Top Buy'))\n",
        "\n",
        "\n",
        "fig.show()\n"
      ],
      "execution_count": null,
      "outputs": []
    },
    {
      "cell_type": "markdown",
      "metadata": {
        "id": "vzqMJww58tuF",
        "colab_type": "text"
      },
      "source": [
        "# Pasar al backtesting\n",
        "Tomando el etiquetado con diferente ventana Hacer resampling y mandar a backtest"
      ]
    },
    {
      "cell_type": "code",
      "metadata": {
        "id": "IdvRtbiyzyUh",
        "colab_type": "code",
        "colab": {}
      },
      "source": [
        "data['Close delta'] = data['Close'].diff()"
      ],
      "execution_count": null,
      "outputs": []
    },
    {
      "cell_type": "code",
      "metadata": {
        "id": "Z5c-tvLoYThR",
        "colab_type": "code",
        "colab": {}
      },
      "source": [
        "date_rng = pd.date_range(start='2017-08-17 04:00:00', end='2017-08-18 00:00:00', freq='1H')\n",
        "date_rng"
      ],
      "execution_count": null,
      "outputs": []
    },
    {
      "cell_type": "code",
      "metadata": {
        "id": "qSLp1ThVDKI0",
        "colab_type": "code",
        "colab": {}
      },
      "source": [
        "data.loc[date_rng]"
      ],
      "execution_count": null,
      "outputs": []
    },
    {
      "cell_type": "code",
      "metadata": {
        "id": "v3o_a0QGuRjz",
        "colab_type": "code",
        "colab": {}
      },
      "source": [
        "#data.loc['2017-08-17 04:00:00']\n",
        "data.loc[date_rng]\n",
        "#data.min()"
      ],
      "execution_count": null,
      "outputs": []
    },
    {
      "cell_type": "code",
      "metadata": {
        "id": "MVIZbW3r0txs",
        "colab_type": "code",
        "colab": {}
      },
      "source": [
        "data.min()"
      ],
      "execution_count": null,
      "outputs": []
    },
    {
      "cell_type": "code",
      "metadata": {
        "id": "DmyHTE56CMG2",
        "colab_type": "code",
        "colab": {}
      },
      "source": [
        "date_rng = pd.date_range(start='2017-12-22 19:00:00', end='2017-12-22 21:00:00', freq='1H')\n",
        "date_rng"
      ],
      "execution_count": null,
      "outputs": []
    },
    {
      "cell_type": "code",
      "metadata": {
        "id": "ZdqJkxci1N7k",
        "colab_type": "code",
        "colab": {}
      },
      "source": [
        "data.loc[date_rng]"
      ],
      "execution_count": null,
      "outputs": []
    },
    {
      "cell_type": "code",
      "metadata": {
        "id": "l9YTWzhh07fo",
        "colab_type": "code",
        "colab": {}
      },
      "source": [
        "data.max()"
      ],
      "execution_count": null,
      "outputs": []
    },
    {
      "cell_type": "code",
      "metadata": {
        "id": "iayNSZiS1OxQ",
        "colab_type": "code",
        "colab": {}
      },
      "source": [
        "data[data['Close delta'] == -1577.87]"
      ],
      "execution_count": null,
      "outputs": []
    },
    {
      "cell_type": "code",
      "metadata": {
        "id": "FrNG1zxqFgEv",
        "colab_type": "code",
        "colab": {}
      },
      "source": [
        "data.loc['2017-12-22 20:00:00']"
      ],
      "execution_count": null,
      "outputs": []
    },
    {
      "cell_type": "code",
      "metadata": {
        "id": "dNx_JQm9xN2k",
        "colab_type": "code",
        "colab": {}
      },
      "source": [
        "data = etiq(data, threshold=.3999)"
      ],
      "execution_count": null,
      "outputs": []
    },
    {
      "cell_type": "code",
      "metadata": {
        "id": "kQMcSfgs9uWQ",
        "colab_type": "code",
        "colab": {}
      },
      "source": [
        "print(f\"VALORES DESPUES:\\n {data['position'].value_counts()}\")"
      ],
      "execution_count": null,
      "outputs": []
    },
    {
      "cell_type": "code",
      "metadata": {
        "id": "gFki560S9uNj",
        "colab_type": "code",
        "colab": {}
      },
      "source": [
        "#print(data.head(10))\n",
        "#plotDataset(data)\n",
        "#data = data.drop(columns=['mn', 'mx'])\n",
        "#data.to_csv('/content/gdrive/My Drive/Colab Notebooks/BITSO/data/datasetEtiquetado.csv')"
      ],
      "execution_count": null,
      "outputs": []
    },
    {
      "cell_type": "code",
      "metadata": {
        "id": "wMrZpvDeSU0S",
        "colab_type": "code",
        "colab": {}
      },
      "source": [
        "data.head()"
      ],
      "execution_count": null,
      "outputs": []
    },
    {
      "cell_type": "code",
      "metadata": {
        "id": "1dDD-toMSKOz",
        "colab_type": "code",
        "colab": {}
      },
      "source": [
        "len(data.index)"
      ],
      "execution_count": null,
      "outputs": []
    },
    {
      "cell_type": "code",
      "metadata": {
        "id": "8myFZ_mPViil",
        "colab_type": "code",
        "colab": {}
      },
      "source": [
        "date_rng = pd.date_range(start='2017-08-17 04:00:00', end='2017-12-23 12:00:00', freq='1H')\n",
        "date_rng"
      ],
      "execution_count": null,
      "outputs": []
    },
    {
      "cell_type": "code",
      "metadata": {
        "id": "hum7Ul6p34d1",
        "colab_type": "code",
        "colab": {}
      },
      "source": [
        "# Create random data with numpy\n",
        "fig = go.Figure()\n",
        "\n",
        "# Add traces\n",
        "fig.add_trace(go.Scatter(x=data.index, y=data['Close'],\n",
        "                    mode='lines',\n",
        "                    name='Close'))\n",
        "#fig.add_trace(go.Scatter(x=random_x, y=random_y1,\n",
        "#                    mode='lines+markers',\n",
        "#                    name='lines+markers'))\n",
        "\n",
        "fig.add_trace(go.Scatter(x=data[data['position'] == -2].index, y=data[data['position'] == -2]['Close'],\n",
        "                    mode='markers',\n",
        "                    name='Top Sale'))\n",
        "fig.add_trace(go.Scatter(x=data[data['position'] == -1].index, y=data[data['position'] == -1]['Close'],\n",
        "                    mode='markers',\n",
        "                    name='Sale'))\n",
        "fig.add_trace(go.Scatter(x=data[data['position'] == 1].index, y=data[data['position'] == 1]['Close'],\n",
        "                    mode='markers',\n",
        "                    name='Buy'))\n",
        "fig.add_trace(go.Scatter(x=data[data['position'] == 2].index, y=data[data['position'] == 2]['Close'],\n",
        "                    mode='markers',\n",
        "                    name='Top Buy'))\n",
        "\n",
        "fig.show()"
      ],
      "execution_count": null,
      "outputs": []
    },
    {
      "cell_type": "code",
      "metadata": {
        "id": "DIDdThUIO24M",
        "colab_type": "code",
        "colab": {}
      },
      "source": [
        "#fig = px.histogram(data.loc[date_rng], x=\"Close\", marginal = \"rug\",nbins=10)\n",
        "fig = px.histogram(data, x=\"Close\", marginal = \"rug\",nbins=10)\n",
        "fig.show()"
      ],
      "execution_count": null,
      "outputs": []
    },
    {
      "cell_type": "markdown",
      "metadata": {
        "id": "gTMzjQt9zphS",
        "colab_type": "text"
      },
      "source": [
        "# TODO\n",
        "* Considerar Estrategia de trading\n",
        "* jugar con ventanas que se ajusten a la frecuencia de operaciones\n",
        "* Ver el futuro usando la ventana correspondiente al horizonte de la estrategia\n",
        "* Considerar la comisión\n",
        "* La ventana es un parámetro a configurar\n",
        "* es decir N > n ventana grande vs ventana pequeña y etiquetar en base a ese conocimiento\n",
        "\n",
        "**Hacer análisi de dataset\n",
        "calcular del dataset el número de eventos a tomar\n",
        "cuanta información para atrás necesito ver para la predicción que se quiere hacer**\n",
        "\n",
        "Una técnica es la autocorrelación \n",
        "Hacer resampling para 1 hora cada 5 horas cada día cada semana etc..."
      ]
    },
    {
      "cell_type": "code",
      "metadata": {
        "id": "6O8zoHyz7QaH",
        "colab_type": "code",
        "colab": {}
      },
      "source": [
        "# pick and test\n",
        "def pickByRegion(df, window):\n",
        "    \n",
        "\n",
        "    df_size = df['Close'].size\n",
        "\n",
        "    actualValue = df.loc[i,'Close']\n",
        "\n",
        "    loops = df_size / window\n",
        "\n",
        "    #derecha\n",
        "\n",
        "    i = firstVI + d\n",
        "    curPos = df.loc[j,'position']\n",
        "    while(i <= lastVI):    \n",
        "        if(abs(df.loc[j,'position']) != 2):\n",
        "          df.loc[j,'position'] = signal\n",
        "        i += d\n",
        "    \n",
        "    #izquierda\n",
        "    k = i - d\n",
        "    while(k >= firstVI and abs(df.loc[k,'Close'] - actualValue) <= threshold):    \n",
        "        if(abs(df.loc[k,'position']) != 2):      \n",
        "          df.loc[k,'position'] = signal\n",
        "        k -= d\n",
        "    i = j- d    \n",
        "    return df\n"
      ],
      "execution_count": null,
      "outputs": []
    },
    {
      "cell_type": "code",
      "metadata": {
        "id": "noqPuVsDtrA-",
        "colab_type": "code",
        "colab": {}
      },
      "source": [
        "\"\"\"register_matplotlib_converters()\n",
        "\n",
        "fig = plt.figure(figsize=[15,10])\n",
        "\n",
        "#grafico superior\n",
        "#ax = fig.add_subplot(2, 1, 1)\n",
        "#ax.set_xticklabels([])\n",
        "plt.plot(data['Close'].loc[date_rng], label='Close Price MXN', lw=1)\n",
        "plt.plot(data['SMA1'].loc[date_rng], fillstyle='none',label='SMA1', lw=1)\n",
        "plt.plot(data['SMA2'].loc[date_rng],fillstyle='none',label='SMA2', lw=1)\n",
        "plt.plot(data['SMAEnter'].loc[date_rng],fillstyle='none',label='SMA Enter', lw=1)\n",
        "plt.plot(data['SMAExit'].loc[date_rng],fillstyle='none',label='SMA Exit', lw=1)\n",
        "plt.plot(data.loc[date_rng][data['position']== -1]['Close'],'v', color='orange', fillstyle='full',label='Sell Signal')\n",
        "plt.plot(data.loc[date_rng][data['position'] == 1]['Close'],'^', color='green', fillstyle='full',label='Buy Signal')\n",
        "plt.plot(data.loc[date_rng][data['position']== -2]['Close'],'v', color='red', fillstyle='full',label='Sell Signal')\n",
        "plt.plot(data.loc[date_rng][data['position'] == 2]['Close'],'^', color='blue', fillstyle='full',label='Buy Signal')\n",
        "\n",
        "plt.xlabel('date')\n",
        "plt.ylabel('BITCOIN TO MXN')\n",
        "plt.grid(True)\n",
        "plt.legend(loc=4)\n",
        "plt.setp(plt.gca().get_xticklabels(), rotation = 30)\n",
        "\"\"\""
      ],
      "execution_count": null,
      "outputs": []
    },
    {
      "cell_type": "code",
      "metadata": {
        "id": "Vy0gykkOv6hy",
        "colab_type": "code",
        "colab": {}
      },
      "source": [
        "date_rng = pd.date_range(start='2017-12-15 00:00:00', end='2017-12-23 12:00:00', freq='H')\n",
        "date_rng"
      ],
      "execution_count": null,
      "outputs": []
    },
    {
      "cell_type": "markdown",
      "metadata": {
        "id": "F_8i7knLkpzS",
        "colab_type": "text"
      },
      "source": [
        "Decomposition of the Time Series into Systematic and Non-systematic components.\n",
        "\n",
        "* Systematic: Components of the TIme Series have consistensy and/or Recurrence and can be described and modeled.\n",
        "* Non-Systematic: Components of the time series that can not be directly modeled.\n",
        "\n",
        "A given time series is thought to consist of three systematic components including level, trend, seasonability , and one non-systematic component called noise.\n",
        "\n",
        "These components are described as follows:\n",
        "* **Level**: The average value in the series\n",
        "* **Trend**: The increasing or decreasing value in the series\n",
        "* **Seasonality**: The repeating short-term cycle in the series.\n",
        "* **Noise**: The random variation in the series."
      ]
    },
    {
      "cell_type": "code",
      "metadata": {
        "id": "v1o-lwj0mgB4",
        "colab_type": "code",
        "colab": {}
      },
      "source": [
        "from statsmodels.tsa.seasonal import seasonal_decompose\n",
        "type(data['Close'])"
      ],
      "execution_count": null,
      "outputs": []
    },
    {
      "cell_type": "code",
      "metadata": {
        "id": "9YrtDv9h2npn",
        "colab_type": "code",
        "colab": {}
      },
      "source": [
        "series = data['Close']"
      ],
      "execution_count": null,
      "outputs": []
    },
    {
      "cell_type": "code",
      "metadata": {
        "id": "6MjzwiwS2uqF",
        "colab_type": "code",
        "colab": {}
      },
      "source": [
        "\n",
        "result = seasonal_decompose(series, model='additive')\n",
        "print(result.trend)\n",
        "print(result.seasonal)\n",
        "print(result.resid)\n",
        "print(result.observed)\n"
      ],
      "execution_count": null,
      "outputs": []
    },
    {
      "cell_type": "code",
      "metadata": {
        "id": "4VnCQtF77lvE",
        "colab_type": "code",
        "colab": {}
      },
      "source": [
        "from pandas.plotting import autocorrelation_plot\n",
        "plt.figure(figsize=(15,10))\n",
        "autocorrelation_plot(series[:50])"
      ],
      "execution_count": null,
      "outputs": []
    },
    {
      "cell_type": "code",
      "metadata": {
        "id": "x9M-XycZ5D1A",
        "colab_type": "code",
        "colab": {}
      },
      "source": [
        "  gMax = data['Close'].max()\n",
        "  gMin = data['Close'].min()\n",
        "  print(f\"{gMax} : {gMin}\")\n",
        "\n",
        "data['quantile_5'] = pd.qcut(data['Close'], q=5)"
      ],
      "execution_count": null,
      "outputs": []
    },
    {
      "cell_type": "code",
      "metadata": {
        "id": "TalV36Uk5WNf",
        "colab_type": "code",
        "colab": {}
      },
      "source": [
        "data['quantile_5'].value_counts()"
      ],
      "execution_count": null,
      "outputs": []
    },
    {
      "cell_type": "code",
      "metadata": {
        "id": "fp5eiUV0aYIb",
        "colab_type": "code",
        "colab": {}
      },
      "source": [
        ""
      ],
      "execution_count": null,
      "outputs": []
    },
    {
      "cell_type": "code",
      "metadata": {
        "id": "ztyywx_A6YSW",
        "colab_type": "code",
        "colab": {}
      },
      "source": [
        "fig = go.Figure()\n",
        "\n",
        "# Add traces\n",
        "fig.add_trace(go.Scatter(x=data.index, y=data['Close'],\n",
        "                    mode='lines',\n",
        "                    name='Close'))\n",
        "#fig.add_trace(go.Scatter(x=random_x, y=random_y1,\n",
        "#                    mode='lines+markers',\n",
        "#                    name='lines+markers'))\n",
        "fig.add_trace(go.Scatter(x=data[data['position'] == -2].index, y=data[data['position'] == -2]['Close'],\n",
        "                    mode='markers',\n",
        "                    name='Top Sale'))\n",
        "fig.add_trace(go.Scatter(x=data[data['position'] == -1].index, y=data[data['position'] == -1]['Close'],\n",
        "                    mode='markers',\n",
        "                    name='Sale'))\n",
        "fig.add_trace(go.Scatter(x=data[data['position'] == 1].index, y=data[data['position'] == 1]['Close'],\n",
        "                    mode='markers',\n",
        "                    name='Buy'))\n",
        "fig.add_trace(go.Scatter(x=data[data['position'] == 2].index, y=data[data['position'] == 2]['Close'],\n",
        "                    mode='markers',\n",
        "                    name='Top Buy'))\n",
        "\"\"\"\n",
        "fig.add_shape(\n",
        "        # Line Horizontal\n",
        "            type=\"line\",\n",
        "            x0=firstVI,\n",
        "            y0=77881.83,\n",
        "            x1=lastVI,\n",
        "            y1=77881.83,\n",
        "            line=dict(\n",
        "                color=\"LightSeaGreen\",\n",
        "                width=1,\n",
        "                dash=\"dashdot\",\n",
        "            ),\n",
        "    )\n",
        "fig.add_shape(\n",
        "        # Line Horizontal\n",
        "            type=\"line\",\n",
        "            x0=firstVI,\n",
        "            y0=151200.0,\n",
        "            x1=lastVI,\n",
        "            y1=151200.0,\n",
        "            line=dict(\n",
        "                color=\"LightSeaGreen\",\n",
        "                width=1,\n",
        "                dash=\"dashdot\",\n",
        "            ),\n",
        "    )\n",
        "fig.add_shape(\n",
        "        # Line Horizontal\n",
        "            type=\"line\",\n",
        "            x0=firstVI,\n",
        "            y0=124689.248,\n",
        "            x1=lastVI,\n",
        "            y1=124689.248,\n",
        "            line=dict(\n",
        "                color=\"LightSeaGreen\",\n",
        "                width=1,\n",
        "                dash=\"dashdot\",\n",
        "            ),\n",
        "    )\n",
        "fig.add_shape(\n",
        "        # Line Horizontal\n",
        "            type=\"line\",\n",
        "            x0=firstVI,\n",
        "            y0=180497.16,\n",
        "            x1=lastVI,\n",
        "            y1=180497.16,\n",
        "            line=dict(\n",
        "                color=\"LightSeaGreen\",\n",
        "                width=1,\n",
        "                dash=\"dashdot\",\n",
        "            ),\n",
        "    )\n",
        "\n",
        "fig.add_shape(\n",
        "        # Line Horizontal\n",
        "            type=\"line\",\n",
        "            x0=firstVI,\n",
        "            y0=397998.76,\n",
        "            x1=lastVI,\n",
        "            y1=397998.76,\n",
        "            line=dict(\n",
        "                color=\"LightSeaGreen\",\n",
        "                width=1,\n",
        "                dash=\"dashdot\",\n",
        "            ),\n",
        "    )\n",
        "\"\"\"\n",
        "fig.show()"
      ],
      "execution_count": null,
      "outputs": []
    },
    {
      "cell_type": "code",
      "metadata": {
        "id": "9E6hzNXX6zm6",
        "colab_type": "code",
        "colab": {}
      },
      "source": [
        "data"
      ],
      "execution_count": null,
      "outputs": []
    },
    {
      "cell_type": "code",
      "metadata": {
        "id": "b6dcz-wPeVMa",
        "colab_type": "code",
        "colab": {}
      },
      "source": [
        "len(data)"
      ],
      "execution_count": null,
      "outputs": []
    },
    {
      "cell_type": "code",
      "metadata": {
        "id": "X6eL6SaAK-HA",
        "colab_type": "code",
        "colab": {}
      },
      "source": [
        "positions = data['position']"
      ],
      "execution_count": null,
      "outputs": []
    },
    {
      "cell_type": "markdown",
      "metadata": {
        "id": "-46aH01ifv4o",
        "colab_type": "text"
      },
      "source": [
        "Backtesting.py documentation\n",
        "https://kernc.github.io/backtesting.py/doc/backtesting/backtesting.html"
      ]
    },
    {
      "cell_type": "markdown",
      "metadata": {
        "id": "EChNOezKas5J",
        "colab_type": "text"
      },
      "source": [
        "\n",
        "***Crear columna de posicion original y ahí dejar el etiquetado original de argrelextrema antes de ninguna rtansformacion. ESP funcion tagForOptimumSales\n",
        "Esto nos va apermitir comparar en posiciones de pérdida las transformaciones de esa posición !!!!!!***"
      ]
    },
    {
      "cell_type": "code",
      "metadata": {
        "id": "wT1SbRUkKEWo",
        "colab_type": "code",
        "colab": {}
      },
      "source": [
        "########################################################################################\n",
        "###### Implementacion de estrategia con señal generada a partir de argrelextrema #######\n",
        "########################################################################################\n",
        "\n",
        "dataN = pd.DataFrame()\n",
        "from backtesting.lib import SignalStrategy, TrailingStrategy\n",
        "\n",
        "class Agrelextrema(SignalStrategy,TrailingStrategy):\n",
        "    #n1 = 720\n",
        "    #n2 = 8760\n",
        "    n1 = 90\n",
        "    #n1 = 360\n",
        "    n2= 4380\n",
        "    commission = 0.0085\n",
        "\n",
        "    d = timedelta(hours=1)\n",
        "    #d = timedelta(minutes=5)\n",
        "\n",
        "    \"\"\"\n",
        "    def merge(self, data1,data2):\n",
        "        df = data1.copy()\n",
        "        for i in df.index:\n",
        "            value = data2.loc[i,'position']\n",
        "            if value != 0:\n",
        "                df.loc[i,'position'] = value\n",
        "        return df\n",
        "    \"\"\"\n",
        "\n",
        "\n",
        "    def merge(self, data1, data2):\n",
        "        dfp1 = data1['position']\n",
        "        dfp2 = data2['position']\n",
        "        dfp = dfp2.combine(dfp1, (lambda x1, x2: x1 if x1 != 0 else x2), fill_value=0)\n",
        "        return dfp\n",
        "\n",
        "\n",
        "    def convertMax(self, df,i,threshold,signal, comission):\n",
        "        \n",
        "        df_size = df['Close'].size\n",
        "        actualValue = df.loc[i,'Close']\n",
        "\n",
        "        #Señal de venta\n",
        "        if (signal != 0):\n",
        "          #derecha\n",
        "          j = i + self.d\n",
        "          #while(j <= lastVI and abs(df.loc[j,'Close'] - actualValue) <= threshold and abs(df.loc[j,'Close'] - actualValue) > comission):\n",
        "          while(j <= lastVI and abs(df.loc[j,'Close'] - actualValue) <= threshold and abs(df.loc[j,'Close'] - actualValue) > comission):        \n",
        "            df.loc[j,'position'] = signal\n",
        "            j += self.d\n",
        "          #izquierda\n",
        "          #NO HACR IZQUIERDA\n",
        "          \"\"\"k = i - self.d\n",
        "          while(k >= firstVI and abs(df.loc[k,'Close'] - actualValue) <= threshold and abs(actualValue - df.loc[k,'Close']) > comission):\n",
        "            df.loc[k,'position'] = signal\n",
        "            k -= self.d\n",
        "          i = j- self.d\"\"\"    \n",
        "\n",
        "        \"\"\"\n",
        "        #Señal de compra\n",
        "        if (signal < 0 ):\n",
        "          #derecha\n",
        "          j = i + self.d\n",
        "          while(j <= lastVI and abs(df.loc[j,'Close'] - actualValue) <= threshold and abs(df.loc[j,'Close'] - actualValue) > comission):\n",
        "            df.loc[j,'position'] = signal\n",
        "            j += d\n",
        "        \"\"\"    \n",
        "          #izquierda\n",
        "          #NO HACER IZQUIERDA          \n",
        "        \"\"\"k = i - d\n",
        "        while(k >= firstVI and abs(df.loc[k,'Close'] - actualValue) <= threshold and abs(actualValue - df.loc[k,'Close']) > comission):    \n",
        "          df.loc[k,'position'] = signal\n",
        "          k -= self.d\n",
        "        i = j- self.d\"\"\"\n",
        "\n",
        "        return df,j\n",
        "\n",
        "    \"\"\"\n",
        "    def etiq(self, df, threshold=.15, comission=.042):\n",
        "        #print(f\"Etiquetando:\")\n",
        "        #df_size = df['Close'].size\n",
        "        i = firstVI\n",
        "        while i < lastVI:\n",
        "            signal = data.loc[i,'position']\n",
        "            if signal == 2 or signal == -2:\n",
        "                closeValue = df.loc[i,'Close']\n",
        "                df,i = self.convertMax(df,i,(closeValue * threshold),signal, comission) #.399 is the highest delta for Nov 2017 through Jan 2018 highest variance\n",
        "            i += d\n",
        "        i = firstVI\n",
        "        \n",
        "        while i < lastVI:\n",
        "            signal = data.loc[i,'position']\n",
        "            if signal == 1 or signal == -1:\n",
        "                closeValue = df.loc[i,'Close']\n",
        "                df,i = self.convertMax(df,i,(closeValue * threshold),signal, comission)\n",
        "            i += d\n",
        "        \n",
        "        return df\n",
        "    \"\"\"\n",
        "\n",
        "    def etiq(self, df, threshold=.15, comission=.042):\n",
        "        #print(f\"Etiquetando:\")\n",
        "        #df_size = df['Close'].size\n",
        "        i = firstVI\n",
        "        for idx, row in data.iterrows():\n",
        "            signal = row['position']\n",
        "            if signal != 0:\n",
        "                closeValue = row['Close']\n",
        "                df,i = self.convertMax(df,i,(closeValue * threshold),signal, comission) #.399 is the highest delta for Nov 2017 through Jan 2018 highest variance\n",
        "\n",
        "        \n",
        "        return df            \n",
        "\n",
        "\n",
        "    def previousPosition(self, df, i):\n",
        "      if i > firstVI :\n",
        "        prev = i - self.d\n",
        "      else: prev = i\n",
        "\n",
        "      while (prev > firstVI and df.loc[prev, 'position'] == 0):\n",
        "        prev = prev - self.d\n",
        "      return prev\n",
        "\n",
        "    def tagForOptimumSales(self, df, commission):\n",
        "      #i = firstVI\n",
        "      movs = 0\n",
        "      df1 = df.copy(deep=True)\n",
        "\n",
        "\n",
        "      prevPos = df1.loc[firstVI, 'position']\n",
        "      pos=df1.loc[firstVI, 'position']\n",
        "      #bestSaleIdx = firstVI\n",
        "      #bestBuyIdx =  firstVI\n",
        "      #prevPrice = df1.loc[firstVI, 'Close']\n",
        "      prev = firstVI\n",
        "      lastSaleIdx = 0\n",
        "      lastBuyIdx = 0\n",
        "\n",
        "      for i, row in df1.iterrows():\n",
        "        #revisar la posicion\n",
        "\n",
        "        #obtener la posición de compra\n",
        "        #si el movimiento anterior fue compra la venta debe de tener ganancia\n",
        "        #si el movimiento anterior fue venta el movimiento actual debve tener más ganancia que aquel y se suprime la venta anterior\n",
        "        #TODO:\n",
        "        #cuando posiciones adyacentes son diferentes, intentar intercambiar las posiciones en vez de eliminar la peor compra!!!\n",
        "        ##############################\n",
        "        if row['position'] != 0: #solo para posiciones de compra y venta.\n",
        "          pos = row['position']\n",
        "          prev = self.previousPosition(df, i)\n",
        "          prevPos = df1.loc[prev, 'position']\n",
        "\n",
        "          #if (prevPos > 0 and pos < 0) or (prevPos < 0 and pos > 0): #cambiamos de posición. Revisar este if . puede estar mal\n",
        "          if (prevPos != pos ): #cambiamos de posición.\n",
        "            if prevPos > 0 and pos < 0 : #compra y luego venta\n",
        "              if df1.loc[prev, 'Close'] > df1.loc[i, 'Close']:  #intercambiar posiciones\n",
        "                if (df1.loc[prev, 'Close'] - df1.loc[i, 'Close']) > (df1.loc[i, 'Close'] * commission): #si le ganamos a la comisión            \n",
        "                  df1.loc[prev, 'position'] = -2.0 #cancela compra\n",
        "                  df1.loc[i, 'position'] = 2.0 #cancela compra\n",
        "                  df1.loc[prev, 'transformPath'] = 'CVswap'\n",
        "                  df1.loc[i, 'transformPath'] = 'CVswap'\n",
        "                else: #quita compra\n",
        "                  df1.loc[prev, 'position'] = 0.0 #cancela venta\n",
        "                  df1.loc[i, 'position'] = 0.0 #cancela venta\n",
        "                  df1.loc[prev, 'transformPath'] = 'CVcancel'\n",
        "                  df1.loc[i, 'transformPath'] = 'CVcancel'\n",
        "                  \n",
        "                movs += 1\n",
        "                #print(\"Cancel buy at \" + str(i))\n",
        "            if prevPos < 0 and pos > 0 : #venta y luego compra\n",
        "              if df1.loc[prev, 'Close'] <= df1.loc[i, 'Close']:  #intercambiar posiciones\n",
        "                if (df1.loc[i, 'Close'] - df1.loc[prev, 'Close']) > (df1.loc[i, 'Close'] * commission): #si le ganamos a la comisión\n",
        "                  df1.loc[i, 'position'] = -2.0 #cancela compra\n",
        "                  df1.loc[prev, 'position'] = 2.0 #cancela compra\n",
        "                  df1.loc[prev, 'transformPath'] = 'CVcancelC'\n",
        "                  df1.loc[i, 'transformPath'] = 'CVcancelC'\n",
        "\n",
        "                else: #quita la compra\n",
        "                  df1.loc[prev, 'position'] = 0.0 #cancela venta\n",
        "                  df1.loc[i, 'position'] = 0.0 #cancela venta\n",
        "                  df1.loc[prev, 'transformPath'] = 'CVcancelV'\n",
        "                  df1.loc[i, 'transformPath'] = 'CVcancelV'\n",
        "\n",
        "                movs += 1\n",
        "            \n",
        "            #Si Venta Anterior es mayor que Compra Actual no se hace nada\n",
        "            pos = df1.loc[i, 'position']\n",
        "          else: #seguimos en la misma posicion \n",
        "            #if pos > 0 and (df1.loc[i, 'Close'] - df1.loc[prev, 'Close']) >= (commission * df1.loc[i, 'Close']) : #venta compuesto\n",
        "            if pos > 0 and (df1.loc[i, 'Close'] >= df1.loc[prev, 'Close']): #compra\n",
        "              #df1.loc[prev, 'position'] = 0 #quitar la posicion de la venta previa\n",
        "              df1.loc[i, 'position'] = 0 #quitar la posicion de la compra actual\n",
        "              df1.loc[i, 'transformPath'] = 'CCcancelC2'\n",
        "              movs += 1\n",
        "              #if (df1.loc[i, 'Close'] > df1.loc[bestSaleIdx, 'Close']):\n",
        "                #bestSaleIdx = i #posicion actual es la mejor venta\n",
        "              \n",
        "            #elif pos > 0 and (df1.loc[i, 'Close'] - df1.loc[prev, 'Close']) < (commission * df1.loc[i, 'Close']) : #venta            \n",
        "            elif pos > 0 and (df1.loc[i, 'Close'] < df1.loc[prev, 'Close']) : #compra           AQUI HAY QUE REVISAR DE NUEVO CONTRA LA POSICION ANTERIOR!!!!!!!!!!!!!!! \n",
        "              df1.loc[prev, 'position'] = 0 #se elimina esta compra al no ser mejor\n",
        "              df1.loc[prev, 'transformPath'] = 'CCcancelC1'\n",
        "\n",
        "              movs += 1 \n",
        "              #print(\"Cancel sell at \" + str(i))\n",
        "            \n",
        "            elif pos < 0 :\n",
        "              if (df1.loc[i, 'Close'] >= df1.loc[prev, 'Close']): #venta\n",
        "                df1.loc[prev, 'position'] = 0 #quitar la posicion de la venta previa\n",
        "                df1.loc[prev, 'transformPath'] = 'VVcancelV1'                \n",
        "                movs += 1\n",
        "                #if (df1.loc[i, 'Close'] > df1.loc[bestSaleIdx, 'Close']):\n",
        "                  #bestSaleIdx = i #posicion actual es la mejor venta\n",
        "                #print(\"Cancel sell at \" + str(prev))\n",
        "              if (df1.loc[i, 'Close'] < df1.loc[prev, 'Close']): #venta\n",
        "                df1.loc[i, 'position'] = 0 #quitar la posicion de la venta previa\n",
        "                df1.loc[i, 'transformPath'] = 'VVcancelV2'\n",
        "                movs += 1\n",
        "\n",
        "              #lastBuy = i\n",
        "\n",
        "          #prev = i #ultima operacion de cada loop hacer movimiento actual el previo\n",
        "          \n",
        "        #print(\"moves \"+ str(movs))\n",
        "      \n",
        "      return df1  \n",
        "\n",
        "\n",
        "\n",
        "        #si es compra comparar con la compra existente, si es mejor, reemplaza a (best_buy) de los contrario nos quedamos con esta última\n",
        "\n",
        "        #si es venta revisar ganancias usando la mejor venta almacenada si es buena se queda si la ganancia no cubre la comisión mas una ganancia se convierte en \"no hacer nada [posiciaon 0]\"\n",
        "        #si la venta mejor cambió, hay que moificar la venta buena original a 0 (opcional)\n",
        "\n",
        "\n",
        "    def tagWParms(self, df , Lwindow, Swindow): \n",
        "\n",
        "        df1 = pd.DataFrame()\n",
        "\n",
        "        df1['Open'] = self.data.Open.to_series()\n",
        "        df1['High'] = self.data.High.to_series()\n",
        "        df1['Low'] = self.data.Low.to_series()\n",
        "        df1['Close'] = self.data.Close.to_series()\n",
        "        #df1 = df.copy(deep=True)\n",
        "\n",
        "        dataMinor = df1.copy()\n",
        "        dataMax = df1.copy()    \n",
        "        #procesando ventas menores\n",
        "        #n = Swindow #un mes   \n",
        "        dataMinor['mn'] = dataMinor.iloc[argrelextrema(dataMinor.Close.values, np.less_equal, order=Swindow)[0]]['Close']\n",
        "        dataMinor['mx'] = dataMinor.iloc[argrelextrema(dataMinor.Close.values, np.greater_equal, order=Swindow)[0]]['Close']\n",
        "        dataMinor['position'] = 0\n",
        "        dataMinor.loc[dataMinor['mn'].notnull(),'position'] = 1.0 \n",
        "        dataMinor.loc[dataMinor['mx'].notnull(),'position'] = -1.0 \n",
        "\n",
        "        #n = Lwindow #un año\n",
        "        dataMax['mn'] = dataMax.iloc[argrelextrema(dataMax.Close.values, np.less_equal, order=Lwindow)[0]]['Close']\n",
        "        dataMax['mx'] = dataMax.iloc[argrelextrema(dataMax.Close.values, np.greater_equal, order=Lwindow)[0]]['Close']\n",
        "        dataMax['position'] = 0\n",
        "        dataMax.loc[dataMax['mn'].notnull(),'position'] = 2.0 \n",
        "        dataMax.loc[dataMax['mx'].notnull(),'position'] = -2.0 \n",
        "\n",
        "        pos = self.merge(dataMinor,dataMax)\n",
        "        data['position'] = pos\n",
        "        #print(f\"VALORES ANTES:\\n {dataN['position'].value_counts()}\")\n",
        "\n",
        "        return data\n",
        "      \n",
        "\n",
        "\n",
        "\n",
        "    \n",
        "    def init(self):\n",
        "        # In init() and in next() it is important to call the\n",
        "        # super method to properly initialize all the classes\n",
        "        #print(\"Windows Range: %i - %i\"%(self.n1, self.n2))\n",
        "        global dataN\n",
        "        super().init()\n",
        "        \n",
        "\n",
        "        dataN = self.tagWParms(self.data, self.n2, self.n1)        \n",
        "        #dataN = self.etiq(dataN, threshold=.3999)\n",
        "        #print(f\"VALORES DESPUES:\\n {dataN['position'].value_counts()}\")\n",
        "        #dataN = dataN.drop(columns=['mn', 'mx'])\n",
        "        dataN['positionO'] = dataN['position']\n",
        "        dataN['transformPath'] = ''\n",
        "        dataN = self.tagForOptimumSales(dataN, commission = self.commission) #check this part\n",
        "        \n",
        "\n",
        "        self.set_signal(pd.Series(dataN['position']),plot=True)\n",
        "        #data.to_csv('/content/gdrive/My Drive/Colab Notebooks/BITSO/data/datasetEtiquetado.csv')        \n"
      ],
      "execution_count": null,
      "outputs": []
    },
    {
      "cell_type": "code",
      "metadata": {
        "id": "pv5RKJWkM3Fs",
        "colab_type": "code",
        "colab": {}
      },
      "source": [
        "data"
      ],
      "execution_count": null,
      "outputs": []
    },
    {
      "cell_type": "code",
      "metadata": {
        "id": "HaP-72V3K738",
        "colab_type": "code",
        "colab": {}
      },
      "source": [
        "databt = data.copy()"
      ],
      "execution_count": null,
      "outputs": []
    },
    {
      "cell_type": "code",
      "metadata": {
        "id": "Io8L3snHwiZI",
        "colab_type": "code",
        "colab": {}
      },
      "source": [
        "databt"
      ],
      "execution_count": null,
      "outputs": []
    },
    {
      "cell_type": "code",
      "metadata": {
        "id": "lNr9EZUpN095",
        "colab_type": "code",
        "colab": {}
      },
      "source": [
        "databt = databt.drop(columns=['Close delta', 'quantile_5','position'], axis=1)"
      ],
      "execution_count": null,
      "outputs": []
    },
    {
      "cell_type": "code",
      "metadata": {
        "id": "ZU-dwqreNOYZ",
        "colab_type": "code",
        "colab": {}
      },
      "source": [
        "databt.loc['2019-11-05 20:00:00']"
      ],
      "execution_count": null,
      "outputs": []
    },
    {
      "cell_type": "code",
      "metadata": {
        "id": "1EuA5XDvKNFC",
        "colab_type": "code",
        "colab": {}
      },
      "source": [
        "\n",
        "bt1 = Backtest(databt, Agrelextrema, cash=20000, commission=.0065, trade_on_close=True) "
      ],
      "execution_count": null,
      "outputs": []
    },
    {
      "cell_type": "code",
      "metadata": {
        "id": "QOUKC7maO99z",
        "colab_type": "code",
        "colab": {}
      },
      "source": [
        "\n",
        "pdBtr = bt1.run()"
      ],
      "execution_count": null,
      "outputs": []
    },
    {
      "cell_type": "code",
      "metadata": {
        "id": "THKa1kyVU7t4",
        "colab_type": "code",
        "colab": {}
      },
      "source": [
        "pdBtr"
      ],
      "execution_count": null,
      "outputs": []
    },
    {
      "cell_type": "markdown",
      "metadata": {
        "id": "rNCGpPjtL70I",
        "colab_type": "text"
      },
      "source": [
        "* An long entry signal is considered present wherever entry is greater than zero.(compra) symbol = v\n",
        "* A short entry signal is considered present wherever entry is less than zero. (venta) symbol = ^\n",
        "* If exit is provided, a nonzero value closes the position, if any; otherwise the position is held until a reverse signal in entry.\n",
        "If plot is True, the signal entry/exit indicators are plotted when Backtest.plot() is called.\n"
      ]
    },
    {
      "cell_type": "code",
      "metadata": {
        "id": "dVFDW2ZvKRM4",
        "colab_type": "code",
        "colab": {}
      },
      "source": [
        "#^ = venta\n",
        "#v = compra\n",
        "#plt.clf()\n",
        "bt1.plot()  "
      ],
      "execution_count": null,
      "outputs": []
    },
    {
      "cell_type": "code",
      "metadata": {
        "id": "uuCnsZGMWZoJ",
        "colab_type": "code",
        "colab": {}
      },
      "source": [
        "fig = go.Figure()\n",
        "\n",
        "# Add traces\n",
        "fig.add_trace(go.Scatter(x=dataN.index, y=dataN['Close'],\n",
        "                    mode='lines',\n",
        "                    name='Close'))\n",
        "\n",
        "fig.add_trace(go.Scatter(x=dataN[dataN['position'] == -2].index, y=dataN[dataN['position'] == -2]['Close'],\n",
        "                    mode='markers',\n",
        "                    marker = dict(size=12, color= 'blue',symbol= 'star-triangle-up'),\n",
        "                    name='Top Sale'))\n",
        "fig.add_trace(go.Scatter(x=dataN[dataN['position'] == -1].index, y=dataN[dataN['position'] == -1]['Close'],\n",
        "                    mode='markers',\n",
        "                    marker = dict(size=12,color= 'green',symbol= 'star-triangle-up' ),                    \n",
        "                    name='Sale'))\n",
        "fig.add_trace(go.Scatter(x=dataN[dataN['position'] == 1].index, y=dataN[dataN['position'] == 1]['Close'],\n",
        "                    mode='markers',\n",
        "                    marker = dict(size=12,color= 'orange',symbol= 'star-triangle-down'),                    \n",
        "                    name='Buy'))\n",
        "fig.add_trace(go.Scatter(x=dataN[dataN['position'] == 2].index, y=dataN[dataN['position'] == 2]['Close'],\n",
        "                    mode='markers',\n",
        "                    marker = dict(size=12,color= 'red',symbol= 'star-triangle-down' ),                    \n",
        "                    name='Top Buy'))\n",
        "\n",
        "fig.show()"
      ],
      "execution_count": null,
      "outputs": []
    },
    {
      "cell_type": "code",
      "metadata": {
        "id": "r1358RbL6tM4",
        "colab_type": "code",
        "colab": {}
      },
      "source": [
        "dataN[dataN['position'] > 0]"
      ],
      "execution_count": null,
      "outputs": []
    },
    {
      "cell_type": "code",
      "metadata": {
        "id": "xefLC_KNKKgu",
        "colab_type": "code",
        "colab": {}
      },
      "source": [
        "dataN.to_csv('/content/gdrive/My Drive/Colab Notebooks/BINANCE/data/Binance_BTCUSDT_1h_labeled_2_windows.csv')"
      ],
      "execution_count": null,
      "outputs": []
    },
    {
      "cell_type": "code",
      "metadata": {
        "id": "jem-RU-JOJ1c",
        "colab_type": "code",
        "colab": {}
      },
      "source": [
        "dataN[dataN['position'] < 0]"
      ],
      "execution_count": null,
      "outputs": []
    },
    {
      "cell_type": "code",
      "metadata": {
        "id": "PUyvaMOI0k2J",
        "colab_type": "code",
        "colab": {}
      },
      "source": [
        "date_rng = pd.date_range(start='2017-12-22 19:00:00', end='2017-12-22 21:00:00', freq='H')\n",
        "dataN.loc['2019-10-28 01:00:00']"
      ],
      "execution_count": null,
      "outputs": []
    },
    {
      "cell_type": "code",
      "metadata": {
        "id": "emcuPCuK5Ji5",
        "colab_type": "code",
        "colab": {}
      },
      "source": [
        "dataN.loc['2019-11-05 20:00:00']"
      ],
      "execution_count": null,
      "outputs": []
    },
    {
      "cell_type": "code",
      "metadata": {
        "id": "g48prZcLo_IH",
        "colab_type": "code",
        "colab": {}
      },
      "source": [
        "dataN.loc['2019-11-25 05:00:00']"
      ],
      "execution_count": null,
      "outputs": []
    },
    {
      "cell_type": "code",
      "metadata": {
        "id": "5pQeNyoBm3Lf",
        "colab_type": "code",
        "colab": {}
      },
      "source": [
        "dataN.loc['2019-11-29 15:00:00']"
      ],
      "execution_count": null,
      "outputs": []
    },
    {
      "cell_type": "code",
      "metadata": {
        "id": "icYZ9eAI59vI",
        "colab_type": "code",
        "colab": {}
      },
      "source": [
        "dataN['position'].value_counts()"
      ],
      "execution_count": null,
      "outputs": []
    },
    {
      "cell_type": "markdown",
      "metadata": {
        "id": "YR96JTniH7R0",
        "colab_type": "text"
      },
      "source": [
        "Optimizando Return"
      ]
    },
    {
      "cell_type": "code",
      "metadata": {
        "id": "AARe-xsebL0C",
        "colab_type": "code",
        "colab": {}
      },
      "source": [
        "stats, heatmap = bt1.optimize(n1 = [1,2,4,6,10,24,45,90,180,360,720,1440],\n",
        "                  n2 = [5,9,18,35,69,138,274,548,1095,2190,4380,8760],\n",
        "                  constraint=lambda p: p.n2 > p.n1,\n",
        "                  #maximize='Win Rate [%]',\n",
        "                  maximize='Return [%]',\n",
        "                  return_heatmap=True\n",
        "                  )"
      ],
      "execution_count": null,
      "outputs": []
    },
    {
      "cell_type": "code",
      "metadata": {
        "id": "DtNiWAPvO5fH",
        "colab_type": "code",
        "colab": {}
      },
      "source": [
        "#bt1.data.Close[]"
      ],
      "execution_count": null,
      "outputs": []
    },
    {
      "cell_type": "code",
      "metadata": {
        "id": "HmGaIGigTEyX",
        "colab_type": "code",
        "colab": {}
      },
      "source": [
        "stats"
      ],
      "execution_count": null,
      "outputs": []
    },
    {
      "cell_type": "code",
      "metadata": {
        "id": "arpmZuNOTMI0",
        "colab_type": "code",
        "colab": {}
      },
      "source": [
        "heatmap"
      ],
      "execution_count": null,
      "outputs": []
    },
    {
      "cell_type": "code",
      "metadata": {
        "id": "dSKeH64aThb7",
        "colab_type": "code",
        "colab": {}
      },
      "source": [
        "hm = heatmap.groupby(['n1', 'n2']).mean().unstack()\n",
        "hm"
      ],
      "execution_count": null,
      "outputs": []
    },
    {
      "cell_type": "code",
      "metadata": {
        "id": "Roo4C3qATn6g",
        "colab_type": "code",
        "colab": {}
      },
      "source": [
        "import seaborn as sns\n",
        "from backtesting.lib import plot_heatmaps\n",
        "plt.figure(figsize=(15,10))\n",
        "\n",
        "#sns.heatmap(hm[::-1], cmap='viridis')\n",
        "plot_heatmaps(heatmap, agg='mean')"
      ],
      "execution_count": null,
      "outputs": []
    },
    {
      "cell_type": "markdown",
      "metadata": {
        "id": "iJjtUMLhH0gM",
        "colab_type": "text"
      },
      "source": [
        "Optimizando Win Rate"
      ]
    },
    {
      "cell_type": "code",
      "metadata": {
        "id": "Xz-DkYuLGzuU",
        "colab_type": "code",
        "colab": {}
      },
      "source": [
        "bt2 = Backtest(databt, Agrelextrema, cash=20000, commission=.0065, trade_on_close=True) "
      ],
      "execution_count": null,
      "outputs": []
    },
    {
      "cell_type": "code",
      "metadata": {
        "id": "OYG9ZtusGzpS",
        "colab_type": "code",
        "colab": {}
      },
      "source": [
        "bt2.run()"
      ],
      "execution_count": null,
      "outputs": []
    },
    {
      "cell_type": "code",
      "metadata": {
        "id": "5eCh7LsWGhFm",
        "colab_type": "code",
        "colab": {}
      },
      "source": [
        "stats2, heatmap2 = bt2.optimize(n1 = [1,2,4,6,12,24,45,90,180,360,720,1440],\n",
        "                  n2 = [5,9,18,35,69,138,274,548,1095,2190,4380,8760],\n",
        "                  constraint=lambda p: p.n2 > p.n1,\n",
        "                  #maximize='Win Rate [%]',\n",
        "                  maximize='Win Rate [%]',\n",
        "                  return_heatmap=True\n",
        "                  )"
      ],
      "execution_count": null,
      "outputs": []
    },
    {
      "cell_type": "code",
      "metadata": {
        "id": "xNa9eXVAGg4H",
        "colab_type": "code",
        "colab": {}
      },
      "source": [
        "stats2"
      ],
      "execution_count": null,
      "outputs": []
    },
    {
      "cell_type": "code",
      "metadata": {
        "id": "lA-E9MKAGgEi",
        "colab_type": "code",
        "colab": {}
      },
      "source": [
        "heatmap2"
      ],
      "execution_count": null,
      "outputs": []
    },
    {
      "cell_type": "code",
      "metadata": {
        "id": "PAE67ZUMHRa2",
        "colab_type": "code",
        "colab": {}
      },
      "source": [
        "hm2 = heatmap2.groupby(['n1', 'n2']).mean().unstack()\n",
        "hm2"
      ],
      "execution_count": null,
      "outputs": []
    },
    {
      "cell_type": "code",
      "metadata": {
        "id": "c7jiqxQYHRSv",
        "colab_type": "code",
        "colab": {}
      },
      "source": [
        "plt.figure(figsize=(15,10))\n",
        "#sns.heatmap(hm2[::-1], cmap='viridis')\n",
        "plot_heatmaps(heatmap2, agg='mean')"
      ],
      "execution_count": null,
      "outputs": []
    },
    {
      "cell_type": "markdown",
      "metadata": {
        "id": "184SqPN5dfuT",
        "colab_type": "text"
      },
      "source": [
        "## Agrelextrema con una sola ventana"
      ]
    },
    {
      "cell_type": "markdown",
      "metadata": {
        "id": "YBh1V9AIeyz1",
        "colab_type": "text"
      },
      "source": [
        "#  Revisar para eliminar posisiones  de -1 (venta consecutivas)"
      ]
    },
    {
      "cell_type": "code",
      "metadata": {
        "id": "zupelg2ab3kx",
        "colab_type": "code",
        "colab": {}
      },
      "source": [
        "########################################################################################\n",
        "###### Implementacion de estrategia con señal generada a partir de argrelextrema #######\n",
        "########################################################################################\n",
        "\n",
        "dataN = pd.DataFrame()\n",
        "\n",
        "from backtesting.lib import SignalStrategy, TrailingStrategy\n",
        "\n",
        "class Agrelextrema1W(SignalStrategy,TrailingStrategy):\n",
        "    #n1 = 13\n",
        "    n1 = 14\n",
        "    n2= 0\n",
        "    commission = 0.0085\n",
        "\n",
        "    d = timedelta(hours=1)\n",
        "\n",
        "    def previousPosition(self, df, i):\n",
        "      if i > firstVI :\n",
        "        prev = i - self.d\n",
        "      else: prev = i\n",
        "\n",
        "      while (prev > firstVI and df.loc[prev, 'position'] == 0):\n",
        "        prev = prev - self.d\n",
        "      return prev\n",
        "\n",
        "    def nextPosition(self, df, i):\n",
        "      if i < lastVI :\n",
        "        nxt = i + self.d\n",
        "      else: nxt = i\n",
        "\n",
        "      while (nxt < lastVI and df.loc[nxt, 'position'] == 0):\n",
        "        nxt = nxt + self.d\n",
        "      return nxt\n",
        "\n",
        "\n",
        "    def merge(self, data1,data2):\n",
        "        df = data1.copy()\n",
        "        for i in df.index:\n",
        "            value = data2.loc[i,'position']\n",
        "            if value != 0:\n",
        "                df.loc[i,'position'] = value\n",
        "        return df\n",
        "\n",
        "    #Obtiene la mejor y la peor posicion de un bloque\n",
        "    def getBestWorstPos(self, dfBlock):\n",
        "\n",
        "      #print(dfBlock)\n",
        "\n",
        "      if (dfBlock.position.min() > 0 ): #Then compra\n",
        "        best = dfBlock.Close.min()\n",
        "        worst = dfBlock.Close.max()\n",
        "      else: #then venta\n",
        "        best = dfBlock.Close.max()\n",
        "        worst = dfBlock.Close.min()\n",
        "\n",
        "      return best, worst\n",
        "\n",
        "\n",
        "    def convertMax(self, df,i,thresholdPct,signal, comission): #Propagar sólo hacia la derecha\n",
        "        \n",
        "        df_size = df['Close'].size\n",
        "        actualValue = df.loc[i,'Close']\n",
        "        prevPosIdx = self.previousPosition(df, i) #commented for testing purposes\n",
        "        nextPosIdx = self.nextPosition(df, i)\n",
        "        positionBlockDf = df[df['position_block'] == prevPosIdx]\n",
        "\n",
        "        #print(positionBlockDf)\n",
        "\n",
        "        prevBest, prevWorst = self.getBestWorstPos(positionBlockDf) #Estos son los valores con los que se van a hacer las comparaciones para los deltas (las peores)\n",
        "        #print(i,':',df.loc[i, 'position'],' C:',df.loc[i, 'Close'],' pB:',prevBest, ' pW:', prevWorst)\n",
        "\n",
        "        #Señal de venta\n",
        "        if (signal < 0):\n",
        "          #derecha\n",
        "          j = i + self.d\n",
        "          #while(j <= lastVI and abs(df.loc[j,'Close'] - actualValue) <= threshold and abs(df.loc[j,'Close'] - actualValue) > comission):\n",
        "          while((j <= lastVI ) \n",
        "                and (abs( actualValue - df.loc[j,'Close']) / df.loc[j,'Close']  <= thresholdPct) \n",
        "                and (abs( df.loc[j,'Close'] - prevBest ) > df.loc[j,'Close'] * comission) \n",
        "                and (abs(df.loc[j,'Close']) > abs(prevBest))\n",
        "                and (df.loc[j, 'propagated_position'] == 0)\n",
        "                and (abs(df.loc[nextPosIdx, 'Close'] - df.loc[j, 'Close']) > df.loc[nextPosIdx, 'Close'] * comission ) #tenemos que ganar a la comision en el siguiente\n",
        "            ):        \n",
        "            df.loc[j,'propagated_position'] = signal\n",
        "            df.loc[j,'position_block'] = i\n",
        "            df.loc[j,'position_close'] = actualValue\n",
        "            df.loc[j,'position_block_delta_pct'] = abs(actualValue - df.loc[j,'Close']) / df.loc[j,'Close']\n",
        "            j += self.d\n",
        "          #izquierda\n",
        "          #NO HACER IZQUIERDA\n",
        "          \"\"\"k = i - self.d\n",
        "          while((k >= firstVI and abs(actualValue / df.loc[k,'Close'] ) <= threshold and abs(df.loc[k,'Close'] - actualValue) > df.loc[k,'Close'] * comission) and df.loc[k, 'propagated_position'] == 0):\n",
        "            df.loc[k,'propagated_position'] = signal\n",
        "            df.loc[j,'position_block'] = i\n",
        "            df.loc[j,'position_close'] = actualValue\n",
        "\n",
        "            k -= self.d \"\"\"\n",
        "          \n",
        "          #Señal de compra\n",
        "        \n",
        "        if (signal > 0 ):\n",
        "          #derecha\n",
        "          j = i + self.d\n",
        "          while((j <= lastVI ) \n",
        "                and (abs( df.loc[j,'Close'] - actualValue )/ df.loc[j,'Close']  <= thresholdPct) \n",
        "                and (abs(prevWorst - df.loc[j,'Close']) > df.loc[j,'Close'] * comission) \n",
        "                and (df.loc[j,'Close'] < prevWorst)\n",
        "                and (df.loc[j, 'propagated_position'] == 0)\n",
        "                and (abs(df.loc[j, 'Close'] - df.loc[nextPosIdx, 'Close']) > df.loc[nextPosIdx, 'Close'] * comission ) #tenemos que ganar a la comision en el siguiente\n",
        "            ):\n",
        "            df.loc[j,'propagated_position'] = signal\n",
        "            df.loc[j,'position_block'] = i\n",
        "            df.loc[j,'position_close'] = actualValue\n",
        "            df.loc[j,'position_block_delta_pct'] = abs( df.loc[j,'Close'] - actualValue ) / df.loc[j,'Close']                         \n",
        "            j += self.d\n",
        "\n",
        "          #izquierda\n",
        "          #NO HACER IZQUIERDA\n",
        "          \"\"\"k = i - self.d\n",
        "          while((k >= firstVI and abs(actualValue / df.loc[k,'Close'] ) <= threshold and abs(df.loc[k,'Close'] - actualValue) > df.loc[k,'Close'] * comission) and df.loc[k, 'propagated_position'] == 0):\n",
        "            df.loc[k,'propagated_position'] = signal\n",
        "            df.loc[j,'position_block'] = i\n",
        "            df.loc[j,'position_close'] = actualValue\n",
        "\n",
        "            k -= self.d\"\"\"\n",
        "          #i = j- self.d\n",
        "\n",
        "        return df,j\n",
        "\n",
        "\n",
        "    def etiq(self, df, threshold=0.25, comission=0.0065):\n",
        "        #print(f\"Etiquetando:\")\n",
        "        df_size = df['Close'].size\n",
        "        \n",
        "        df1 = df.copy(deep=True)\n",
        "        df1['propagated_position'] = df1['position']\n",
        "        df1['position_block'] = df1.index\n",
        "        df1['position_close'] = df1['Close']\n",
        "        df1['position_block_delta_pct'] = 0\n",
        "\n",
        "        i = firstVI\n",
        "        while i < lastVI:\n",
        "            signal = df1.loc[i,'propagated_position']\n",
        "            if signal != 0:\n",
        "                closeValue = df1.loc[i,'Close']\n",
        "                #df,i = self.convertMax(df1,i,(closeValue * threshold),signal, comission) #.399 is the highest delta for Nov 2017 through Jan 2018 highest variance\n",
        "                df,i = self.convertMax(df1,i,(threshold),signal, comission) #changing threshold criteria to pure threshold (no calculation)\n",
        "            i += d        \n",
        "        \n",
        "        return df1\n",
        "    \n",
        "    \n",
        "    def tagForOptimumSales(self, df, commission):\n",
        "      #i = firstVI\n",
        "      movs = 0\n",
        "      df1 = df.copy(deep=True)\n",
        "\n",
        "\n",
        "      prevPos = df1.loc[firstVI, 'position']\n",
        "      pos=df1.loc[firstVI, 'position']\n",
        "      #bestSaleIdx = firstVI\n",
        "      #bestBuyIdx =  firstVI\n",
        "      prevPrice = df1.loc[firstVI, 'Close']\n",
        "      prev = firstVI\n",
        "      lastSaleIdx = 0\n",
        "      lastBuyIdx = 0\n",
        "\n",
        "      for i in df1.index:\n",
        "        #revisar la posicion\n",
        "\n",
        "        #Si el movimiento es venta\n",
        "        #si el movimiento anterior fue compra la venta debe de tener ganancia\n",
        "        #si el movimiento anterior fue venta el movimiento actual debve tener más ganancia que aquel y se suprime la venta anterior\n",
        "        #Si el movimiento es compra\n",
        "        #Si el movimiento anterior fue compra se suplrime la peor compra y se queda sólo la mejor\n",
        "        #Si el movimiento anterior fue venta se debe tener ganancia. SI no hay ganancia se cambian de lugar o se suprime la compra (o ambos)\n",
        "        #TODO:\n",
        "        #cuando posiciones adyacentes son diferentes, intentar intercambiar las posiciones en vez de eliminar la peor compra!!!\n",
        "        ##############################\n",
        "        if df1.loc[i, 'position'] != 0: #solo para posiciones de compra y venta.\n",
        "          pos = df1.loc[i, 'position']\n",
        "          prev = self.previousPosition(df, i)\n",
        "          prevPos = df1.loc[prev, 'position']\n",
        "\n",
        "          if (prevPos > 0 and pos < 0) or (prevPos < 0 and pos > 0): #cambiamos de posición. Revisar este if . puede estar mal\n",
        "            if prevPos > 0 and pos < 0 : #compra y luego venta\n",
        "              if df1.loc[prev, 'Close'] > df1.loc[i, 'Close']:  #intercambiar posiciones\n",
        "                if (abs(df1.loc[prev, 'Close'] - df1.loc[i, 'Close'])) > abs(df1.loc[i, 'Close'] * commission): #si le ganamos a la comisión            \n",
        "                  df1.loc[prev, 'position'] = -2.0 #intercambia compra\n",
        "                  df1.loc[i, 'position'] = 2.0 #intercambia venta\n",
        "                else: #quita compra y venta\n",
        "                  df1.loc[prev, 'position'] = 0.0 #cancela compra\n",
        "                  df1.loc[i, 'position'] = 0.0 #cancela venta\n",
        "              else:\n",
        "                if (abs(df1.loc[prev, 'Close'] - df1.loc[i, 'Close'])) < abs(df1.loc[i, 'Close'] * commission): #si le ganamos a la comisión            \n",
        "                  df1.loc[prev, 'position'] = -2.0 #cancela compra\n",
        "                  df1.loc[i, 'position'] = 2.0 #cancela compra\n",
        "              movs += 1\n",
        "                #print(\"Cancel buy at \" + str(i))\n",
        "            if prevPos < 0 and pos > 0 : #venta y luego compra\n",
        "              if df1.loc[prev, 'Close'] <= df1.loc[i, 'Close']:  #intercambiar posiciones\n",
        "                if (abs(df1.loc[i, 'Close'] - df1.loc[prev, 'Close'])) > abs(df1.loc[i, 'Close'] * commission): #si le ganamos a la comisión\n",
        "                  df1.loc[i, 'position'] = -2.0 #mantiene compra\n",
        "                  df1.loc[prev, 'position'] = 2.0 #mantiene compra\n",
        "                else: #quita la compra\n",
        "                  df1.loc[prev, 'position'] = 0.0 #cancela venta\n",
        "                  df1.loc[i, 'position'] = 0.0 #cancela venta\n",
        "                movs += 1\n",
        "            \n",
        "            #Si Venta Anterior es mayor que Compra Actual no se hace nada\n",
        "            pos = df1.loc[i, 'position']\n",
        "          else: #seguimos en la misma posicion \n",
        "            #if pos > 0 and (df1.loc[i, 'Close'] - df1.loc[prev, 'Close']) >= (commission * df1.loc[i, 'Close']) : #venta compuesto\n",
        "            if pos > 0 and (df1.loc[i, 'Close'] >= df1.loc[prev, 'Close']): #compra\n",
        "              #df1.loc[prev, 'position'] = 0 #quitar la posicion de la venta previa\n",
        "              df1.loc[i, 'position'] = 0 #quitar la posicion de la compra actual\n",
        "              movs += 1\n",
        "              \n",
        "            #elif pos > 0 and (df1.loc[i, 'Close'] - df1.loc[prev, 'Close']) < (commission * df1.loc[i, 'Close']) : #venta            \n",
        "            elif pos > 0 and (df1.loc[i, 'Close'] < df1.loc[prev, 'Close']) : #compra            \n",
        "              df1.loc[prev, 'position'] = 0 #se elimina esta compra al no ser mejor\n",
        "              movs += 1 \n",
        "              #print(\"Cancel sell at \" + str(i))\n",
        "            \n",
        "            if pos < 0 : #ANtes era elif revisar todo mañana con calma 07/02/2020\n",
        "              if (df1.loc[i, 'Close'] >= df1.loc[prev, 'Close']): #venta\n",
        "                df1.loc[prev, 'position'] = 0 #quitar la posicion de la venta previa\n",
        "                movs += 1\n",
        "                #print(\"Cancel sell at \" + str(prev))\n",
        "              if (df1.loc[i, 'Close'] < df1.loc[prev, 'Close']): #venta\n",
        "                df1.loc[i, 'position'] = 0 #quitar la posicion de la venta previa\n",
        "                movs += 1\n",
        "\n",
        "              lastBuy = i\n",
        "\n",
        "          #prev = previousPosition(df, i) #ultima operacion de cada loop hacer movimiento actual el previo\n",
        "          \n",
        "        #print(\"moves \"+ str(movs))\n",
        "      \n",
        "      return df1  \n",
        "\n",
        "\n",
        "\n",
        "        #si es compra comparar con la compra existente, si es mejor, reemplaza a (best_buy) de los contrario nos quedamos con esta última\n",
        "\n",
        "        #si es venta revisar ganancias usando la mejor venta almacenada si es buena se queda si la ganancia no cubre la comisión mas una ganancia se convierte en \"no hacer nada [posiciaon 0]\"\n",
        "        #si la venta mejor cambió, hay que moificar la venta buena original a 0 (opcional)\n",
        "\n",
        "\n",
        "    def tagWParms(self, df , Swindow): \n",
        "\n",
        "        df1 = pd.DataFrame()\n",
        "\n",
        "        df1['Open'] = self.data.Open.to_series()\n",
        "        df1['High'] = self.data.High.to_series()\n",
        "        df1['Low'] = self.data.Low.to_series()\n",
        "        df1['Close'] = self.data.Close.to_series()\n",
        "        #df1 = df.copy(deep=True)\n",
        "\n",
        "        dataMinor = df1.copy()\n",
        "        dataMax = df1.copy()    \n",
        "        dataMinor['mn'] = dataMinor.iloc[argrelextrema(dataMinor.Close.values, np.less_equal, order=Swindow)[0]]['Close']\n",
        "        dataMinor['mx'] = dataMinor.iloc[argrelextrema(dataMinor.Close.values, np.greater_equal, order=Swindow)[0]]['Close']\n",
        "        dataMinor['position'] = 0\n",
        "        dataMinor.loc[dataMinor['mn'].notnull(),'position'] = 1.0 \n",
        "        dataMinor.loc[dataMinor['mx'].notnull(),'position'] = -1.0 \n",
        "        \n",
        "        #dataMax['mn'] = dataMax.iloc[argrelextrema(dataMax.Close.values, np.less_equal, order=Lwindow)[0]]['Close']\n",
        "        #dataMax['mx'] = dataMax.iloc[argrelextrema(dataMax.Close.values, np.greater_equal, order=Lwindow)[0]]['Close']\n",
        "        #dataMax['position'] = 0\n",
        "        #dataMax.loc[dataMax['mn'].notnull(),'position'] = 2.0 \n",
        "        #dataMax.loc[dataMax['mx'].notnull(),'position'] = -2.0 \n",
        "\n",
        "        #data = self.merge(dataMinor,dataMax)\n",
        "        data = dataMinor\n",
        "        #print(f\"VALORES ANTES:\\n {dataN['position'].value_counts()}\")\n",
        "\n",
        "        return data\n",
        "      \n",
        "\n",
        "\n",
        "\n",
        "    \n",
        "    def init(self):\n",
        "        # In init() and in next() it is important to call the\n",
        "        # super method to properly initialize all the classes\n",
        "        global dataN\n",
        "        print(\"Window: %d\"%(self.n1))\n",
        "        super().init()       \n",
        "        dataN = self.tagWParms(self.data, self.n1)                \n",
        "        dataN = dataN.drop(columns=['mn', 'mx'])\n",
        "        #print(f\"VALORES ANTES:\\n {dataN['position'].value_counts()}\")\n",
        "        dataN = self.tagForOptimumSales(dataN, commission = self.commission) #Primera Pasada\n",
        "        #print(f\"VALORES EN MEDIO:\\n {dataN['position'].value_counts()}\")\n",
        "        dataN = self.tagForOptimumSales(dataN, commission = self.commission) #Segunda Pasada\n",
        "        ################################PROPAGATE POSITION##################################\n",
        "        dataN = self.etiq(dataN, threshold=0.15)        #Propagación de de posición a un bloque\n",
        "        #print(f\"VALORES DESPUES:\\n {dataN['position'].value_counts()}\")\n",
        "        #print(f\"VALORES DESPUES:\\n {dataN['propagated_position'].value_counts()}\")\n",
        "\n",
        "        self.set_signal(pd.Series(dataN['position']),plot=True)\n",
        "        #data.to_csv('/content/gdrive/My Drive/Colab Notebooks/BITSO/data/datasetEtiquetado.csv')        \n",
        "\n"
      ],
      "execution_count": null,
      "outputs": []
    },
    {
      "cell_type": "code",
      "metadata": {
        "id": "M33VCDUqer13",
        "colab_type": "code",
        "colab": {}
      },
      "source": [
        "btW1 = Backtest(databt, Agrelextrema1W, cash=400000, commission=.0065, trade_on_close=True) "
      ],
      "execution_count": null,
      "outputs": []
    },
    {
      "cell_type": "code",
      "metadata": {
        "id": "6Fg18VOBerqv",
        "colab_type": "code",
        "colab": {}
      },
      "source": [
        "pdW1Btr = btW1.run()"
      ],
      "execution_count": null,
      "outputs": []
    },
    {
      "cell_type": "code",
      "metadata": {
        "id": "4zlwoh1cerMH",
        "colab_type": "code",
        "colab": {}
      },
      "source": [
        "pdW1Btr"
      ],
      "execution_count": null,
      "outputs": []
    },
    {
      "cell_type": "markdown",
      "metadata": {
        "id": "qBny2js-Ot8A",
        "colab_type": "text"
      },
      "source": [
        "https://www.investopedia.com/terms/d/drawdown.asp\n",
        "\n",
        "What is a Drawdown?\n",
        "A drawdown is a peak-to-trough decline during a specific period for an investment, trading account, or fund. A drawdown is usually quoted as the percentage between the peak and the subsequent trough. If a trading account has 10,000 in it, and the funds drop to 9,000 before moving back above 10,000, then the trading account witnessed a 10% drawdown."
      ]
    },
    {
      "cell_type": "code",
      "metadata": {
        "id": "n5lCc4Y5JCIR",
        "colab_type": "code",
        "colab": {}
      },
      "source": [
        "#^ = venta\n",
        "#v = compra\n",
        "\n",
        "btW1.plot()"
      ],
      "execution_count": null,
      "outputs": []
    },
    {
      "cell_type": "code",
      "metadata": {
        "id": "dawGAgkNzFHi",
        "colab_type": "code",
        "colab": {}
      },
      "source": [
        "dataN.loc['2018-11-07 12:00:00']"
      ],
      "execution_count": null,
      "outputs": []
    },
    {
      "cell_type": "markdown",
      "metadata": {
        "id": "Uu79v3WNEhQf",
        "colab_type": "text"
      },
      "source": [
        "Para ganar más posiciones al 0:\n",
        "* Agregar propagación de posiciones para crear bloques. \n",
        "* No va a servir con el backtesting\n",
        "* Agregar clases de ventas y compras óptimas\n",
        "* Para probar en backtesting tomar la peor posición de cada bloque\n",
        "* Usando función existente:\n",
        "  * Crear columna de posicion nueva para comparar. \n",
        "  * con la funcion existente propagar \n",
        "  * Crear un campo nuevo llamado bloque\n",
        "  * Hay tantos bloques como posiciones originales hay en la serie\n",
        "  * Separar el peor de cada bloque para backtesting (de lo contrario BT no funciona)\n",
        "  * El Delta entre posiciones propagadas debe ser entre la posición contraria (peor del bloque) anteriror. No contra la posicion propagada anterior en el bloque."
      ]
    },
    {
      "cell_type": "code",
      "metadata": {
        "id": "zYhOh3MMJTq-",
        "colab_type": "code",
        "colab": {}
      },
      "source": [
        "dataN.to_csv('/content/gdrive/My Drive/Colab Notebooks/BINANCE/data/Binance_BTCUSDT_1h_labeled_1_window.csv')"
      ],
      "execution_count": null,
      "outputs": []
    },
    {
      "cell_type": "code",
      "metadata": {
        "id": "Xq5eI02qKqnY",
        "colab_type": "code",
        "colab": {}
      },
      "source": [
        "stats1W, heatmap1W = btW1.optimize(n1 = [1,2,4,6,7,8,9,10,11,12,13,14,15,16,24,45,90,180,360,720,1095,1440,2190,4380,8760],\n",
        "                  n2 = [0],\n",
        "                  #constraint=lambda p: p.n2 > p.n1,\n",
        "                  #maximize='Win Rate [%]',\n",
        "                  maximize='Win Rate [%]',\n",
        "                  return_heatmap=True\n",
        "                  )"
      ],
      "execution_count": null,
      "outputs": []
    },
    {
      "cell_type": "code",
      "metadata": {
        "id": "_dNUsxRMKqYU",
        "colab_type": "code",
        "colab": {}
      },
      "source": [
        "hmW1 = heatmap1W.groupby(['n1']).mean()\n",
        "hmW1"
      ],
      "execution_count": null,
      "outputs": []
    },
    {
      "cell_type": "code",
      "metadata": {
        "id": "3k78Fa5OCiwz",
        "colab_type": "code",
        "colab": {}
      },
      "source": [
        "stats1W, heatmap1W = btW1.optimize(n1 = [1,2,4,6,7,8,9,10,11,12,13,14,15,16,24,45,90,180,360,720,1095,1440,2190,4380,8760],\n",
        "                  n2 = [0],\n",
        "                  #constraint=lambda p: p.n2 > p.n1,\n",
        "                  #maximize='Win Rate [%]',\n",
        "                  maximize='Return [%]',\n",
        "                  return_heatmap=True\n",
        "                  )"
      ],
      "execution_count": null,
      "outputs": []
    },
    {
      "cell_type": "code",
      "metadata": {
        "id": "14T6C7ehChG5",
        "colab_type": "code",
        "colab": {}
      },
      "source": [
        "hmW1 = heatmap1W.groupby(['n1']).mean()\n",
        "hmW1"
      ],
      "execution_count": null,
      "outputs": []
    },
    {
      "cell_type": "code",
      "metadata": {
        "id": "5nuwcb-pLDk5",
        "colab_type": "code",
        "colab": {}
      },
      "source": [
        "plt.figure(figsize=(15,10))\n",
        "#sns.heatmap(heatmap1W[:-1], cmap='viridis')\n",
        "plot_heatmaps(heatmap1W, agg='mean')"
      ],
      "execution_count": null,
      "outputs": []
    },
    {
      "cell_type": "markdown",
      "metadata": {
        "id": "9wX_0R_xA8Sf",
        "colab_type": "text"
      },
      "source": [
        "Resampling to Daily"
      ]
    },
    {
      "cell_type": "code",
      "metadata": {
        "id": "9dHIlayOA8PV",
        "colab_type": "code",
        "colab": {}
      },
      "source": [
        "data_daily_resampled = data.resample('D').mean()"
      ],
      "execution_count": null,
      "outputs": []
    },
    {
      "cell_type": "code",
      "metadata": {
        "id": "P1QR2jIFGqaP",
        "colab_type": "code",
        "colab": {}
      },
      "source": [
        "data_daily_resampled.head()"
      ],
      "execution_count": null,
      "outputs": []
    },
    {
      "cell_type": "code",
      "metadata": {
        "id": "TvN6lhabrTJk",
        "colab_type": "code",
        "colab": {}
      },
      "source": [
        "date_rng = pd.date_range(start='2017-12-24 00:00:00', end='2017-12-25 23:00:00', freq='H')\n",
        "date_rng"
      ],
      "execution_count": null,
      "outputs": []
    },
    {
      "cell_type": "code",
      "metadata": {
        "id": "q3p-UyTmA8Lb",
        "colab_type": "code",
        "colab": {}
      },
      "source": [
        "fig = go.Figure()\n",
        "\n",
        "# Add traces\n",
        "fig.add_trace(go.Scatter(x=dataN.index, y=dataN['Close'],\n",
        "                    mode='lines',\n",
        "                    name='Close'))\n",
        "\n",
        "fig.add_trace(go.Scatter(x=dataN[dataN['position'] == -2].index, y=dataN[dataN['position'] == -2]['Close'],\n",
        "                    mode='markers',\n",
        "                    marker = dict(size=12, color= 'blue',symbol= 'star-triangle-up'),\n",
        "                    name='Top Sale'))\n",
        "fig.add_trace(go.Scatter(x=dataN[dataN['position'] == -1].index, y=dataN[dataN['position'] == -1]['Close'],\n",
        "                    mode='markers',\n",
        "                    marker = dict(size=12,color= 'green',symbol= 'star-triangle-up' ),                    \n",
        "                    name='Sale'))\n",
        "fig.add_trace(go.Scatter(x=dataN[dataN['position'] == 1].index, y=dataN[dataN['position'] == 1]['Close'],\n",
        "                    mode='markers',\n",
        "                    marker = dict(size=12,color= 'orange',symbol= 'star-triangle-down'),                    \n",
        "                    name='Buy'))\n",
        "fig.add_trace(go.Scatter(x=dataN[dataN['position'] == 2].index, y=dataN[dataN['position'] == 2]['Close'],\n",
        "                    mode='markers',\n",
        "                    marker = dict(size=12,color= 'red',symbol= 'star-triangle-down' ),                    \n",
        "                    name='Top Buy'))\n",
        "\n",
        "fig.show()"
      ],
      "execution_count": null,
      "outputs": []
    },
    {
      "cell_type": "code",
      "metadata": {
        "id": "b5u6NvxfuGZd",
        "colab_type": "code",
        "colab": {}
      },
      "source": [
        "fig = go.Figure()\n",
        "\n",
        "# Add traces\n",
        "fig.add_trace(go.Scatter(x=dataN.index, y=dataN['Close'],\n",
        "                    mode='lines',\n",
        "                    name='Close'))\n",
        "\n",
        "fig.add_trace(go.Scatter(x=dataN[dataN['propagated_position'] == -2].index, y=dataN[dataN['propagated_position'] == -2]['Close'],\n",
        "                    mode='markers',\n",
        "                    marker = dict(size=12, color= 'blue',symbol= 'star-triangle-up'),\n",
        "                    name='Top Sale'))\n",
        "fig.add_trace(go.Scatter(x=dataN[dataN['propagated_position'] == -1].index, y=dataN[dataN['propagated_position'] == -1]['Close'],\n",
        "                    mode='markers',\n",
        "                    marker = dict(size=12,color= 'green',symbol= 'star-triangle-up' ),                    \n",
        "                    name='Sale'))\n",
        "fig.add_trace(go.Scatter(x=dataN[dataN['propagated_position'] == 1].index, y=dataN[dataN['propagated_position'] == 1]['Close'],\n",
        "                    mode='markers',\n",
        "                    marker = dict(size=12,color= 'orange',symbol= 'star-triangle-down'),                    \n",
        "                    name='Buy'))\n",
        "fig.add_trace(go.Scatter(x=dataN[dataN['propagated_position'] == 2].index, y=dataN[dataN['propagated_position'] == 2]['Close'],\n",
        "                    mode='markers',\n",
        "                    marker = dict(size=12,color= 'red',symbol= 'star-triangle-down' ),                    \n",
        "                    name='Top Buy'))\n",
        "\n",
        "fig.show()"
      ],
      "execution_count": null,
      "outputs": []
    },
    {
      "cell_type": "code",
      "metadata": {
        "id": "ekZR8fKLGhIg",
        "colab_type": "code",
        "colab": {}
      },
      "source": [
        "dataN['propagated_position'].value_counts()"
      ],
      "execution_count": null,
      "outputs": []
    },
    {
      "cell_type": "code",
      "metadata": {
        "id": "ofjho-3eXeP3",
        "colab_type": "code",
        "colab": {}
      },
      "source": [
        "dataN['position'].value_counts()"
      ],
      "execution_count": null,
      "outputs": []
    },
    {
      "cell_type": "code",
      "metadata": {
        "id": "SfQ7qdhzq1xD",
        "colab_type": "code",
        "colab": {}
      },
      "source": [
        "for i in dataN.index:\n",
        "  if dataN[dataN['position_block'] == i].size > 1:\n",
        "    print(dataN[dataN['position_block'] == i])\n",
        "    break"
      ],
      "execution_count": null,
      "outputs": []
    },
    {
      "cell_type": "code",
      "metadata": {
        "id": "OS4GsO4OjZre",
        "colab_type": "code",
        "colab": {}
      },
      "source": [
        "len(dataN[dataN['position_block'] == '2017-12-24 06:00:00'])"
      ],
      "execution_count": null,
      "outputs": []
    },
    {
      "cell_type": "code",
      "metadata": {
        "id": "oinho0iZQN9t",
        "colab_type": "code",
        "colab": {}
      },
      "source": [
        "dataN[dataN['position_block'] == '2017-07-01 20:00:00']"
      ],
      "execution_count": null,
      "outputs": []
    },
    {
      "cell_type": "code",
      "metadata": {
        "id": "TnvGo89TEY7Q",
        "colab_type": "code",
        "colab": {}
      },
      "source": [
        "dataN.head(5)"
      ],
      "execution_count": null,
      "outputs": []
    },
    {
      "cell_type": "code",
      "metadata": {
        "id": "49P-Ff4-Er1-",
        "colab_type": "code",
        "colab": {}
      },
      "source": [
        "dataN.loc[date_rng]"
      ],
      "execution_count": null,
      "outputs": []
    },
    {
      "cell_type": "code",
      "metadata": {
        "id": "Dd1gyzW06_yg",
        "colab_type": "code",
        "colab": {}
      },
      "source": [
        "dataN[dataN['position_block'] == '2017-12-13 18:00:00']"
      ],
      "execution_count": null,
      "outputs": []
    },
    {
      "cell_type": "markdown",
      "metadata": {
        "id": "gBjFuZki_xFa",
        "colab_type": "text"
      },
      "source": [
        "Hacer back testing del Mejor y del Peor de cada bloque\n",
        "La propagación hacer la sólo hacia adelante"
      ]
    },
    {
      "cell_type": "code",
      "metadata": {
        "colab_type": "code",
        "id": "aZsEtyTrfuiL",
        "colab": {}
      },
      "source": [
        "##################################################################################################################################\n",
        "###### Implementacion de estrategia con señal generada a partir de argrelextrema y propagación de posiciones en  de Bloques#######\n",
        "##################################################################################################################################\n",
        "from backtesting.lib import SignalStrategy, TrailingStrategy\n",
        "\n",
        "class AgrelextremaWorst(SignalStrategy,TrailingStrategy):\n",
        "    n1 = 9\n",
        "    n2= 0\n",
        "    commission = 0.0065\n",
        "\n",
        "    d = timedelta(hours=1)\n",
        "\n",
        "    def previousPosition(self, df, i):\n",
        "      if i > firstVI :\n",
        "        prev = i - self.d\n",
        "      else: prev = i\n",
        "\n",
        "      while (prev > firstVI and df.loc[prev, 'position'] == 0):\n",
        "        prev = prev - self.d\n",
        "      return prev\n",
        "    \n",
        "    #Obtiene la mejor y la peor posicion de un bloque\n",
        "    def getBestWorstPos(self, dfBlock):\n",
        "\n",
        "      #print(dfBlock)\n",
        "      wIndex = 0\n",
        "      bIndex = 0\n",
        "      pos = 0\n",
        "\n",
        "      if (dfBlock.propagated_position.max() > 0 ): #Then compra\n",
        "        best = dfBlock.Close.min()\n",
        "        worst = dfBlock.Close.max()\n",
        "        pos = 1\n",
        "      elif dfBlock.propagated_position.min() < 0: #then venta\n",
        "        best = dfBlock.Close.max()\n",
        "        worst = dfBlock.Close.min()\n",
        "        pos = -1\n",
        "      else:\n",
        "        pos = 0\n",
        "        best = -1\n",
        "        worst = -1\n",
        "\n",
        "      wIndex = dfBlock[dfBlock['Close'] == worst].index\n",
        "      bIndex = dfBlock[dfBlock['Close'] == best].index\n",
        "\n",
        "\n",
        "      return best, worst, bIndex, wIndex, pos\n",
        "\n",
        "    def tagWorse(self, df):\n",
        "\n",
        "      firstVI = df.first_valid_index\n",
        "      lastVI = df.last_valid_index\n",
        "\n",
        "      dataWorse = df.copy(deep=True)\n",
        "\n",
        "      dataWorse['positionW'] = 0\n",
        "\n",
        "      for i in dataWorse.index:\n",
        "        dBlock = dataN[dataN['position_block'] == i]\n",
        "        if len(dBlock) > 1:\n",
        "          print(i,' ',len(dBlock))\n",
        "        if dBlock.propagated_position.min() != 0:\n",
        "          bAmt, wAmt, bIdx, wIdx, pstn = self.getBestWorstPos(dBlock)        \n",
        "          dataWorse.loc[wIdx,'positionW'] = pstn\n",
        "\n",
        "      return dataWorse\n",
        "\n",
        "\n",
        "\n",
        "\n",
        "    \n",
        "    def init(self):\n",
        "        # In init() and in next() it is important to call the\n",
        "        # super method to properly initialize all the classes\n",
        "        global dataN\n",
        "        super().init()       \n",
        "        ################################Etiqueta peor##################################\n",
        "        dataN = self.tagWorse(dataN)        \n",
        "        #print(f\"VALORES DESPUES:\\n {dataN['position'].value_counts()}\")\n",
        "        #print(f\"VALORES DESPUES:\\n {dataN['propagated_position'].value_counts()}\")\n",
        "\n",
        "        self.set_signal(pd.Series(dataN['positionW']), plot=True)\n",
        "        #data.to_csv('/content/gdrive/My Drive/Colab Notebooks/BITSO/data/datasetEtiquetado.csv')        "
      ],
      "execution_count": null,
      "outputs": []
    },
    {
      "cell_type": "code",
      "metadata": {
        "id": "pk0GU3Bnziku",
        "colab_type": "code",
        "colab": {}
      },
      "source": [
        "btWrst = Backtest(databt, AgrelextremaWorst, cash=400000, commission=0.0065, trade_on_close=True) "
      ],
      "execution_count": null,
      "outputs": []
    },
    {
      "cell_type": "code",
      "metadata": {
        "id": "Mis2b4YJzigk",
        "colab_type": "code",
        "colab": {}
      },
      "source": [
        "pdWrst = btWrst.run()"
      ],
      "execution_count": null,
      "outputs": []
    },
    {
      "cell_type": "code",
      "metadata": {
        "id": "1eMU0rzcziZX",
        "colab_type": "code",
        "colab": {}
      },
      "source": [
        "pdWrst"
      ],
      "execution_count": null,
      "outputs": []
    },
    {
      "cell_type": "code",
      "metadata": {
        "id": "vkvgCTSW-uVU",
        "colab_type": "code",
        "colab": {}
      },
      "source": [
        "dataN"
      ],
      "execution_count": null,
      "outputs": []
    },
    {
      "cell_type": "code",
      "metadata": {
        "id": "46uF1xxkK3SY",
        "colab_type": "code",
        "colab": {}
      },
      "source": [
        "dataN.to_csv('/content/gdrive/My Drive/Colab Notebooks/BINANCE/data/Binance_BTCUSDT_1h_labeled_1_window_propagated_blocks.csv')"
      ],
      "execution_count": null,
      "outputs": []
    },
    {
      "cell_type": "code",
      "metadata": {
        "id": "f6gbfXbI6JoD",
        "colab_type": "code",
        "colab": {}
      },
      "source": [
        "#^ = venta\n",
        "#v = compra\n",
        "\n",
        "btWrst.plot()"
      ],
      "execution_count": null,
      "outputs": []
    },
    {
      "cell_type": "markdown",
      "metadata": {
        "id": "43-epi1NUtF8",
        "colab_type": "text"
      },
      "source": [
        "##Buscar Posiciones consecutivas redundantes\n",
        "como 2017-08-24 10:00:00 y 2017-08-24 19:00:00 ambas ventas consecutivas\n",
        "\n",
        "Las pérdidas son atribuibles a posiciones redundantes. Principalmente de venta. Revisar código en función"
      ]
    },
    {
      "cell_type": "code",
      "metadata": {
        "id": "egdhVdoWUsyB",
        "colab_type": "code",
        "colab": {}
      },
      "source": [
        "dataTshoot = dataN[dataN['position'] != 0].copy(deep=True)"
      ],
      "execution_count": null,
      "outputs": []
    },
    {
      "cell_type": "code",
      "metadata": {
        "id": "UEpM0O5sVYC9",
        "colab_type": "code",
        "colab": {}
      },
      "source": [
        "len(dataTshoot)"
      ],
      "execution_count": null,
      "outputs": []
    },
    {
      "cell_type": "code",
      "metadata": {
        "id": "97MzqBkfVmlU",
        "colab_type": "code",
        "colab": {}
      },
      "source": [
        "dataTshoot['consecutivePos'] = np.sign(dataTshoot.position.diff().fillna(0)).shift(-1).fillna(0)"
      ],
      "execution_count": null,
      "outputs": []
    },
    {
      "cell_type": "code",
      "metadata": {
        "id": "ez4YCoHgV2wV",
        "colab_type": "code",
        "colab": {}
      },
      "source": [
        "dataTshoot['consecutivePos'].value_counts()"
      ],
      "execution_count": null,
      "outputs": []
    },
    {
      "cell_type": "code",
      "metadata": {
        "id": "hfzdQCzratek",
        "colab_type": "code",
        "colab": {}
      },
      "source": [
        "date_rng = pd.date_range(start='2017-08-24 00:00:00', end='2017-08-25 23:00:00', freq='H')\n",
        "date_rng"
      ],
      "execution_count": null,
      "outputs": []
    },
    {
      "cell_type": "code",
      "metadata": {
        "id": "WFKyxXPzWb98",
        "colab_type": "code",
        "colab": {}
      },
      "source": [
        "dataTshoot[dataTshoot['consecutivePos'] == 0]"
      ],
      "execution_count": null,
      "outputs": []
    },
    {
      "cell_type": "code",
      "metadata": {
        "id": "6Dr8OBMDUIhX",
        "colab_type": "code",
        "colab": {}
      },
      "source": [
        "dataN.loc['2017-08-24 12:00:00']"
      ],
      "execution_count": null,
      "outputs": []
    },
    {
      "cell_type": "code",
      "metadata": {
        "id": "3lFKC1wySyKr",
        "colab_type": "code",
        "colab": {}
      },
      "source": [
        "dataN.loc['2017-08-24 19:00:00']"
      ],
      "execution_count": null,
      "outputs": []
    },
    {
      "cell_type": "code",
      "metadata": {
        "id": "X8H5sPx01h64",
        "colab_type": "code",
        "colab": {}
      },
      "source": [
        "dataN['propagated_position'].value_counts()"
      ],
      "execution_count": null,
      "outputs": []
    },
    {
      "cell_type": "code",
      "metadata": {
        "id": "vbhnK56f1TWW",
        "colab_type": "code",
        "colab": {}
      },
      "source": [
        "dataN['positionW'].value_counts()"
      ],
      "execution_count": null,
      "outputs": []
    },
    {
      "cell_type": "code",
      "metadata": {
        "id": "YpV_Rjd8fpea",
        "colab_type": "code",
        "colab": {}
      },
      "source": [
        "dictBlock = {}\n",
        "for i in dataN.index:\n",
        "  dBlock = dataN[dataN['position_block'] == i]\n",
        "  if i not in dictBlock:\n",
        "    dictBlock[i] = len(dBlock)"
      ],
      "execution_count": null,
      "outputs": []
    },
    {
      "cell_type": "code",
      "metadata": {
        "id": "cZAgjROlmlgX",
        "colab_type": "code",
        "colab": {}
      },
      "source": [
        "len(dictBlock)"
      ],
      "execution_count": null,
      "outputs": []
    },
    {
      "cell_type": "code",
      "metadata": {
        "id": "1cokPrGD2DUo",
        "colab_type": "code",
        "colab": {}
      },
      "source": [
        "fig = go.Figure()\n",
        "\n",
        "# Add traces\n",
        "fig.add_trace(go.Scatter(x=dataN.index, y=dataN['Close'],\n",
        "                    mode='lines',\n",
        "                    name='Close'))\n",
        "\n",
        "fig.add_trace(go.Scatter(x=dataN[dataN['positionW'] == -2].index, y=dataN[dataN['positionW'] == -2]['Close'],\n",
        "                    mode='markers',\n",
        "                    name='Top Sale'))\n",
        "fig.add_trace(go.Scatter(x=dataN[dataN['positionW'] == -1].index, y=dataN[dataN['positionW'] == -1]['Close'],\n",
        "                    mode='markers',\n",
        "                    name='Sale'))\n",
        "fig.add_trace(go.Scatter(x=dataN[dataN['positionW'] == 1].index, y=dataN[dataN['positionW'] == 1]['Close'],\n",
        "                    mode='markers',\n",
        "                    name='Buy'))\n",
        "fig.add_trace(go.Scatter(x=dataN[dataN['positionW'] == 2].index, y=dataN[dataN['positionW'] == 2]['Close'],\n",
        "                    mode='markers',\n",
        "                    name='Top Buy'))\n",
        "\n",
        "fig.show()"
      ],
      "execution_count": null,
      "outputs": []
    },
    {
      "cell_type": "code",
      "metadata": {
        "id": "A2kEHJ0znrNO",
        "colab_type": "code",
        "colab": {}
      },
      "source": [
        "\"\"\"\n",
        "for i in dictBlock.keys():\n",
        "  print(i , \" \",dictBlock[i])\n",
        "\"\"\""
      ],
      "execution_count": null,
      "outputs": []
    },
    {
      "cell_type": "markdown",
      "metadata": {
        "id": "qBFhiwddHIEX",
        "colab_type": "text"
      },
      "source": [
        "Resample data to 4 hours next"
      ]
    },
    {
      "cell_type": "code",
      "metadata": {
        "id": "uHHmcQdP2nqM",
        "colab_type": "code",
        "colab": {}
      },
      "source": [
        "result = seasonal_decompose(data['Close'][date_rng], model='multiplicative', freq=1)"
      ],
      "execution_count": null,
      "outputs": []
    },
    {
      "cell_type": "code",
      "metadata": {
        "id": "7QyC5seaIzla",
        "colab_type": "code",
        "colab": {}
      },
      "source": [
        "date_rng4H = pd.date_range(start='2017-12-15 00:00:00', end='2017-12-23 12:00:00', freq='4H')\n",
        "#date_rng4H"
      ],
      "execution_count": null,
      "outputs": []
    },
    {
      "cell_type": "code",
      "metadata": {
        "id": "eyjnAA0rA76a",
        "colab_type": "code",
        "colab": {}
      },
      "source": [
        "# Resampling data to 4 \n",
        "data_4H_resampled = data.resample('4H').mean()"
      ],
      "execution_count": null,
      "outputs": []
    },
    {
      "cell_type": "code",
      "metadata": {
        "id": "cWmqtONp3fIx",
        "colab_type": "code",
        "colab": {}
      },
      "source": [
        "data_4H_resampled['Close'][date_rng4H].head()"
      ],
      "execution_count": null,
      "outputs": []
    },
    {
      "cell_type": "code",
      "metadata": {
        "id": "x3k1SpsOA7K0",
        "colab_type": "code",
        "colab": {}
      },
      "source": [
        "result4H = seasonal_decompose(data_4H_resampled['Close'][date_rng4H], model='multiplicative', freq=4)\n",
        "\n",
        "result4H.plot()\n",
        "plt.show()"
      ],
      "execution_count": null,
      "outputs": []
    },
    {
      "cell_type": "code",
      "metadata": {
        "id": "lolS8WYT37lQ",
        "colab_type": "code",
        "colab": {}
      },
      "source": [
        "plt.figure(figsize=(15,10))\n",
        "autocorrelation_plot(data_4H_resampled['Close'][date_rng4H])"
      ],
      "execution_count": null,
      "outputs": []
    },
    {
      "cell_type": "code",
      "metadata": {
        "id": "_0-vm6hUIgyA",
        "colab_type": "code",
        "colab": {}
      },
      "source": [
        "date_rng6H = pd.date_range(start='2017-12-15 00:00:00', end='2017-12-23 12:00:00', freq='6H')\n",
        "date_rng6H"
      ],
      "execution_count": null,
      "outputs": []
    },
    {
      "cell_type": "code",
      "metadata": {
        "id": "FZahVANBGPPE",
        "colab_type": "code",
        "colab": {}
      },
      "source": [
        "data_6H_resampled = data.resample('6H').mean()\n",
        "data_6H_resampled.head()"
      ],
      "execution_count": null,
      "outputs": []
    },
    {
      "cell_type": "code",
      "metadata": {
        "id": "Cs9Q_qV678WR",
        "colab_type": "code",
        "colab": {}
      },
      "source": [
        "\n",
        "result6H = seasonal_decompose(data_6H_resampled['Close'][date_rng6H], model='multiplicative', freq=1)\n",
        "result6H.plot()\n",
        "plt.show()"
      ],
      "execution_count": null,
      "outputs": []
    },
    {
      "cell_type": "code",
      "metadata": {
        "id": "fJg5eV_9779S",
        "colab_type": "code",
        "colab": {}
      },
      "source": [
        "plt.figure(figsize=(15,10))\n",
        "autocorrelation_plot(data_6H_resampled['Close'][date_rng6H])"
      ],
      "execution_count": null,
      "outputs": []
    },
    {
      "cell_type": "code",
      "metadata": {
        "id": "fC_PKh5IGaT-",
        "colab_type": "code",
        "colab": {}
      },
      "source": [
        "data_12H_resampled = data.resample('12H').mean()\n",
        "data_12H_resampled.head()"
      ],
      "execution_count": null,
      "outputs": []
    },
    {
      "cell_type": "code",
      "metadata": {
        "id": "NQ2KqJOeJRLN",
        "colab_type": "code",
        "colab": {}
      },
      "source": [
        "date_rng12H = pd.date_range(start='2017-12-15 00:00:00', end='2017-12-23 12:00:00', freq='12H')\n",
        "date_rng12H"
      ],
      "execution_count": null,
      "outputs": []
    },
    {
      "cell_type": "code",
      "metadata": {
        "id": "kq3aeMp9dRRN",
        "colab_type": "code",
        "colab": {}
      },
      "source": [
        "\n",
        "result12H = seasonal_decompose(data_12H_resampled['Close'][date_rng12H], model='multiplicative', freq=1)\n",
        "result12H.plot()\n",
        "plt.show()"
      ],
      "execution_count": null,
      "outputs": []
    },
    {
      "cell_type": "code",
      "metadata": {
        "id": "u2So54g4eKPG",
        "colab_type": "code",
        "colab": {}
      },
      "source": [
        "data_12H_resampled.head()"
      ],
      "execution_count": null,
      "outputs": []
    },
    {
      "cell_type": "code",
      "metadata": {
        "id": "SYcAhIoXdlUp",
        "colab_type": "code",
        "colab": {}
      },
      "source": [
        "plt.figure(figsize=(20,15))\n",
        "#autocorrelation_plot(data_12H_resampled['Close'][date_rng12H])\n",
        "autocorrelation_plot(data_12H_resampled['Close'])"
      ],
      "execution_count": null,
      "outputs": []
    },
    {
      "cell_type": "code",
      "metadata": {
        "id": "gFrYtSO1KCtb",
        "colab_type": "code",
        "colab": {}
      },
      "source": [
        "plt.figure(figsize=(20,15))\n",
        "#autocorrelation_plot(data['Close'][date_rng])\n",
        "autocorrelation_plot(data['Close'])"
      ],
      "execution_count": null,
      "outputs": []
    },
    {
      "cell_type": "markdown",
      "metadata": {
        "id": "mO6YGUrj-h3x",
        "colab_type": "text"
      },
      "source": [
        "Encontrar relación entre valor actual con valor dentro de ventana de tiempo.\n",
        "\n",
        "https://robjhyndman.com/hyndsight/tscv/\n",
        "\n",
        "\n",
        "bitcoin datasources:\n",
        "\n",
        "* http://www.coindesk.com/price\n",
        "* http://www.investing.com/currencies/btc-usd-historical-data\n",
        "* http://www.quandl.com/c/markets/bitcoin-data\n",
        "* https://bitcoinchain.com/markets\n",
        "\n"
      ]
    },
    {
      "cell_type": "code",
      "metadata": {
        "id": "IPA1TrpUKYjS",
        "colab_type": "code",
        "colab": {}
      },
      "source": [
        "######################################################################\n",
        "####### For this to work I need to set-up the function with Agrelextrema signal generation in the strategy class\n",
        "#######\n",
        "#%%time\n",
        "\n",
        "#stats, heatmap = bt.optimize(d_rsi=range(10, 35, 5),\n",
        "#                  w_rsi=range(10, 35, 5),\n",
        "#                  level=range(30, 80, 10),\n",
        "#                  maximize='Return [%]',\n",
        "#                  return_heatmap=True\n",
        "#                  )"
      ],
      "execution_count": null,
      "outputs": []
    }
  ]
}